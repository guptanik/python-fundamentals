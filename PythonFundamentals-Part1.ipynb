{
 "cells": [
  {
   "cell_type": "markdown",
   "metadata": {},
   "source": [
    "# Python Fundamentals - Part I"
   ]
  },
  {
   "cell_type": "markdown",
   "metadata": {},
   "source": [
    "![python_logo](https://learn-ml-and-ai-blog-resources.s3.us-east-2.amazonaws.com/PythonFundamentals/python_logo.png)"
   ]
  },
  {
   "cell_type": "markdown",
   "metadata": {},
   "source": [
    "This is the first post of the series of Python Fundamentals. These posts are a result of my own journey of learning python. In this series i have tried to include a lot of examples trying out different experiments of the new concepts which will be introduced. Experimenting, i guess is the best way to learn anything new. \n",
    "\n",
    "I would highly encourage you to try out the example code snippets from this post as you go along. It will help you gain the maximum out of this post."
   ]
  },
  {
   "cell_type": "markdown",
   "metadata": {},
   "source": [
    "Also I will be using [***Jupyter Notebook***](https://jupyter.org/) in this post exclusively to try out different things. Jupyter Notebook is an incredibly powerful too which is very commonly used in the field of Data Science and Machine Learning. Although we will not be discussing any DS or ML stuff in this series of post, i prefered to use Jupyter Notebook instead of any other IDE as it will help me become a little more comfortable using Jupyter Notebooks. You can use any IDE of your choice. If you are not familiar with Jupyter Notebooks and want to try it out, you can read my post on starting with Jupyter [***here***](http://learningmlandai.com/introduction-to-jupyter-notebook/)."
   ]
  },
  {
   "cell_type": "markdown",
   "metadata": {},
   "source": [
    "Alright enough publicity! Lets dive straight into the exciting stuff."
   ]
  },
  {
   "cell_type": "markdown",
   "metadata": {},
   "source": [
    "## Basics"
   ]
  },
  {
   "cell_type": "markdown",
   "metadata": {},
   "source": [
    "[***Python***](https://www.python.org/) is a general purpose programming language used in a variety of applications. It is very simple and since it closely resembles the English language, it is incredibly easy to read and understand. Because of this very reson, Python has become a very popular language in a very short time."
   ]
  },
  {
   "cell_type": "markdown",
   "metadata": {},
   "source": [
    "Without any further delay, lets write our very first python program. We will begin by saying `Hello World!` the python way!"
   ]
  },
  {
   "cell_type": "code",
   "execution_count": 1,
   "metadata": {},
   "outputs": [
    {
     "name": "stdout",
     "output_type": "stream",
     "text": [
      "Hello World!\n"
     ]
    }
   ],
   "source": [
    "print(\"Hello World!\")"
   ]
  },
  {
   "cell_type": "markdown",
   "metadata": {},
   "source": [
    "As you can see we can print anything using the `print` command. Anything we write inside the `\"\"` in the print command gets printed as it is. Lets try another example."
   ]
  },
  {
   "cell_type": "code",
   "execution_count": 2,
   "metadata": {},
   "outputs": [
    {
     "name": "stdout",
     "output_type": "stream",
     "text": [
      "Python seems fun :)\n"
     ]
    }
   ],
   "source": [
    "print(\"Python seems fun :)\")"
   ]
  },
  {
   "cell_type": "markdown",
   "metadata": {},
   "source": [
    "and another -"
   ]
  },
  {
   "cell_type": "code",
   "execution_count": 3,
   "metadata": {},
   "outputs": [
    {
     "name": "stdout",
     "output_type": "stream",
     "text": [
      "Whatever i write here gets printed. Magic!\n"
     ]
    }
   ],
   "source": [
    "print(\"Whatever i write here gets printed. Magic!\")"
   ]
  },
  {
   "cell_type": "markdown",
   "metadata": {},
   "source": [
    "Now we can use single quotation marks `''` to get the same result."
   ]
  },
  {
   "cell_type": "code",
   "execution_count": 4,
   "metadata": {},
   "outputs": [
    {
     "name": "stdout",
     "output_type": "stream",
     "text": [
      "This works\n"
     ]
    }
   ],
   "source": [
    "print('This works')"
   ]
  },
  {
   "cell_type": "code",
   "execution_count": 5,
   "metadata": {},
   "outputs": [
    {
     "name": "stdout",
     "output_type": "stream",
     "text": [
      "So single quotation marks works as well\n"
     ]
    }
   ],
   "source": [
    "print('So single quotation marks works as well')"
   ]
  },
  {
   "cell_type": "markdown",
   "metadata": {},
   "source": [
    "***Using comments***"
   ]
  },
  {
   "cell_type": "markdown",
   "metadata": {},
   "source": [
    "It is usually a good practice to include `comments` in your code. Comments are lines or statements that you can include in the code wherever needed. Comments are used to describe your code so that the person reading your code (even you yourself) will be able to get context of what you are trying to do in the code. Comments are just for readability purposes and are totally ignored by the compiler. So they don't have any effect on the output of the code.\n",
    "\n",
    "You can include a comment in python using the `#` character. Everything on the line after the `#` character is part of the comment and is ignore by the compiler."
   ]
  },
  {
   "cell_type": "code",
   "execution_count": 6,
   "metadata": {},
   "outputs": [
    {
     "name": "stdout",
     "output_type": "stream",
     "text": [
      "Just another experiment with single quotes.\n"
     ]
    }
   ],
   "source": [
    "# Program to try print something using single quotation marks\n",
    "print('Just another experiment with single quotes.')"
   ]
  },
  {
   "cell_type": "markdown",
   "metadata": {},
   "source": [
    "## Data types in python"
   ]
  },
  {
   "cell_type": "markdown",
   "metadata": {},
   "source": [
    "Python has the capability to handle a wide variety of data namely -\n",
    "-  ***Integers*** (`int`) - Eg. 3, 8, 155, -4, -120\n",
    "-  ***Floating point numbers*** (`float`) - Eg. 3.14, 9.999, -123.32\n",
    "-  ***String/Character sequences*** (`str`) - Eg. \"Hello\", \"String can have space as well\"\n",
    "-  ***Boolean values*** (`bool`) - Eg. True and False"
   ]
  },
  {
   "cell_type": "code",
   "execution_count": 7,
   "metadata": {},
   "outputs": [
    {
     "data": {
      "text/plain": [
       "3"
      ]
     },
     "execution_count": 7,
     "metadata": {},
     "output_type": "execute_result"
    }
   ],
   "source": [
    "# Example of integers\n",
    "3"
   ]
  },
  {
   "cell_type": "code",
   "execution_count": 8,
   "metadata": {},
   "outputs": [
    {
     "data": {
      "text/plain": [
       "-10"
      ]
     },
     "execution_count": 8,
     "metadata": {},
     "output_type": "execute_result"
    }
   ],
   "source": [
    "# Another example of integers\n",
    "-10"
   ]
  },
  {
   "cell_type": "code",
   "execution_count": 9,
   "metadata": {},
   "outputs": [
    {
     "data": {
      "text/plain": [
       "3.14"
      ]
     },
     "execution_count": 9,
     "metadata": {},
     "output_type": "execute_result"
    }
   ],
   "source": [
    "# Example of floating point numbers\n",
    "3.14"
   ]
  },
  {
   "cell_type": "code",
   "execution_count": 10,
   "metadata": {},
   "outputs": [
    {
     "data": {
      "text/plain": [
       "-125.485"
      ]
     },
     "execution_count": 10,
     "metadata": {},
     "output_type": "execute_result"
    }
   ],
   "source": [
    "# Another example of floating point numbers\n",
    "-125.485"
   ]
  },
  {
   "cell_type": "code",
   "execution_count": 11,
   "metadata": {},
   "outputs": [
    {
     "data": {
      "text/plain": [
       "'Hello'"
      ]
     },
     "execution_count": 11,
     "metadata": {},
     "output_type": "execute_result"
    }
   ],
   "source": [
    "# Example of a string \n",
    "\"Hello\""
   ]
  },
  {
   "cell_type": "code",
   "execution_count": 12,
   "metadata": {},
   "outputs": [
    {
     "data": {
      "text/plain": [
       "'This string is made of many words.'"
      ]
     },
     "execution_count": 12,
     "metadata": {},
     "output_type": "execute_result"
    }
   ],
   "source": [
    "# Another example of a string made up many words\n",
    "\"This string is made of many words.\""
   ]
  },
  {
   "cell_type": "code",
   "execution_count": 13,
   "metadata": {},
   "outputs": [
    {
     "data": {
      "text/plain": [
       "'20'"
      ]
     },
     "execution_count": 13,
     "metadata": {},
     "output_type": "execute_result"
    }
   ],
   "source": [
    "# Another example of string - an integer value as a string\n",
    "\"20\""
   ]
  },
  {
   "cell_type": "code",
   "execution_count": 14,
   "metadata": {},
   "outputs": [
    {
     "data": {
      "text/plain": [
       "'15.55'"
      ]
     },
     "execution_count": 14,
     "metadata": {},
     "output_type": "execute_result"
    }
   ],
   "source": [
    "# Another example of string - an float value as a string\n",
    "\"15.55\""
   ]
  },
  {
   "cell_type": "code",
   "execution_count": 15,
   "metadata": {},
   "outputs": [
    {
     "data": {
      "text/plain": [
       "True"
      ]
     },
     "execution_count": 15,
     "metadata": {},
     "output_type": "execute_result"
    }
   ],
   "source": [
    "# Example of boolean value True\n",
    "True"
   ]
  },
  {
   "cell_type": "markdown",
   "metadata": {},
   "source": [
    "You can see that the word True in above output is not contained in quotes. So it is not a string type but is a boolean type."
   ]
  },
  {
   "cell_type": "code",
   "execution_count": 16,
   "metadata": {},
   "outputs": [
    {
     "data": {
      "text/plain": [
       "False"
      ]
     },
     "execution_count": 16,
     "metadata": {},
     "output_type": "execute_result"
    }
   ],
   "source": [
    "# Example of boolean value False\n",
    "False"
   ]
  },
  {
   "cell_type": "markdown",
   "metadata": {},
   "source": [
    "You can check the type of a value in python using the `type` command."
   ]
  },
  {
   "cell_type": "code",
   "execution_count": 17,
   "metadata": {},
   "outputs": [
    {
     "data": {
      "text/plain": [
       "int"
      ]
     },
     "execution_count": 17,
     "metadata": {},
     "output_type": "execute_result"
    }
   ],
   "source": [
    "# Check type of an integer value\n",
    "type(3)"
   ]
  },
  {
   "cell_type": "code",
   "execution_count": 18,
   "metadata": {},
   "outputs": [
    {
     "data": {
      "text/plain": [
       "float"
      ]
     },
     "execution_count": 18,
     "metadata": {},
     "output_type": "execute_result"
    }
   ],
   "source": [
    "# Check type of a floating value\n",
    "type(3.14)"
   ]
  },
  {
   "cell_type": "code",
   "execution_count": 19,
   "metadata": {},
   "outputs": [
    {
     "data": {
      "text/plain": [
       "str"
      ]
     },
     "execution_count": 19,
     "metadata": {},
     "output_type": "execute_result"
    }
   ],
   "source": [
    "# Check type os a string value\n",
    "type(\"Hello\")"
   ]
  },
  {
   "cell_type": "code",
   "execution_count": 20,
   "metadata": {},
   "outputs": [
    {
     "data": {
      "text/plain": [
       "bool"
      ]
     },
     "execution_count": 20,
     "metadata": {},
     "output_type": "execute_result"
    }
   ],
   "source": [
    "# Check type of a boolean value\n",
    "type(True)"
   ]
  },
  {
   "cell_type": "markdown",
   "metadata": {},
   "source": [
    "## Variables"
   ]
  },
  {
   "cell_type": "markdown",
   "metadata": {},
   "source": [
    "You can store a value of any of the above types (and many more complex types which we will discuss later) in the memory and can assign a name to it. This is called a `Variable`."
   ]
  },
  {
   "cell_type": "code",
   "execution_count": 21,
   "metadata": {},
   "outputs": [
    {
     "name": "stdout",
     "output_type": "stream",
     "text": [
      "5\n",
      "<class 'int'>\n"
     ]
    }
   ],
   "source": [
    "# Example of an integer variable\n",
    "a = 5\n",
    "print(a)\n",
    "print(type(a))"
   ]
  },
  {
   "cell_type": "markdown",
   "metadata": {},
   "source": [
    "In the above example we created a variable named ***`a`*** and assigned it an integer value of ***`5`***. We can see that when we use ***`a`*** in the print statement, it prints the value of a i.e. ***`5`***. Further when we printed the ***`type`*** of variable ***`a`***, we get the output ***`int`***. This confirms that a is an integer type variable.\n",
    "\n",
    "Similarly we can create variables of other types."
   ]
  },
  {
   "cell_type": "code",
   "execution_count": 22,
   "metadata": {},
   "outputs": [
    {
     "name": "stdout",
     "output_type": "stream",
     "text": [
      "3.14\n",
      "<class 'float'>\n"
     ]
    }
   ],
   "source": [
    "# Example of a float variable\n",
    "pi = 3.14\n",
    "print(pi)\n",
    "print(type(pi))"
   ]
  },
  {
   "cell_type": "code",
   "execution_count": 23,
   "metadata": {},
   "outputs": [
    {
     "name": "stdout",
     "output_type": "stream",
     "text": [
      "Tom Hanks\n",
      "<class 'str'>\n"
     ]
    }
   ],
   "source": [
    "# Example of a string variable\n",
    "name = \"Tom Hanks\"\n",
    "print(name)\n",
    "print(type(name))"
   ]
  },
  {
   "cell_type": "code",
   "execution_count": 24,
   "metadata": {},
   "outputs": [
    {
     "name": "stdout",
     "output_type": "stream",
     "text": [
      "True\n"
     ]
    },
    {
     "data": {
      "text/plain": [
       "bool"
      ]
     },
     "execution_count": 24,
     "metadata": {},
     "output_type": "execute_result"
    }
   ],
   "source": [
    "# Example of a boolean variable\n",
    "status = True\n",
    "print(status)\n",
    "type(status)"
   ]
  },
  {
   "cell_type": "markdown",
   "metadata": {},
   "source": [
    "*It is good practice to give your variables some meaningful name. Providing meaningful names help others looking at the code to get an idea of what the variable is used for.*\n",
    "\n",
    "Suppose you came across the variable x below -\n",
    "\n",
    "`x = 12`\n",
    "\n",
    "After reading this statement, it is not very clear what is the value stored in x. If we had named the variable a little more cautiously like below - \n",
    "\n",
    "`number_of_months_in_a_year = 12` or\n",
    "\n",
    "`roll_number = 12` or\n",
    "\n",
    "`marks_scored = 12`\n",
    "\n",
    "it becomes very clear from the name of the variable what value is being stored in it.\n",
    "\n",
    "So always try to give your variables some useful names."
   ]
  },
  {
   "cell_type": "markdown",
   "metadata": {},
   "source": [
    "## Typecasting"
   ]
  },
  {
   "cell_type": "markdown",
   "metadata": {},
   "source": [
    "In many situations, we often need to convert one type of variable into another - say an `integer` to a `string` or vice versa. This is called `Typecasting`"
   ]
  },
  {
   "cell_type": "markdown",
   "metadata": {},
   "source": [
    "***Typecasting integer to float***"
   ]
  },
  {
   "cell_type": "code",
   "execution_count": 25,
   "metadata": {},
   "outputs": [
    {
     "name": "stdout",
     "output_type": "stream",
     "text": [
      "Value of a is 5\n",
      "Type of a is <class 'int'>\n",
      "Value of a is 5.0\n",
      "Type of a is <class 'float'>\n"
     ]
    }
   ],
   "source": [
    "# Typecasting an integer to a float value\n",
    "a = 5\n",
    "print(\"Value of a is {0}\".format(a))\n",
    "print(\"Type of a is {}\".format(type(a)))\n",
    "b = float(a)\n",
    "print(\"Value of a is {0}\".format(b))\n",
    "print(\"Type of a is {}\".format(type(b)))"
   ]
  },
  {
   "cell_type": "markdown",
   "metadata": {},
   "source": [
    "In the above code snippet, we create a variable ***`a`*** of `int` type by assigning it an integer value of ***`5`***. We have confirmed this by printing the value of ***`a`*** and the type of ***`a`***. (*We have used some special syntax in the print command. Ignore it for now. We will talk about it shortly.*) \n",
    "\n",
    "Then we converted ***`a`*** to a `float` type by using the `float()` command and passing ***`a`*** to it and assigned the resulting float value to ***`b`***. Again we have confirmed above that the value of b is ***`5.0`*** (decimal since it is a floating type value) and its type is indeed `float`."
   ]
  },
  {
   "cell_type": "markdown",
   "metadata": {},
   "source": [
    "<hr>\n",
    "\n",
    "***Special syntax in the `print` command***\n",
    "\n",
    "It isn't of much use if we can print only simple fixed string values. Often we need to display the properties of a variable (name, type or others) in a descriptive manner like above. Thus we need to include extra values in a string somehow. This can be achieved using the `format` command. \n",
    "\n",
    "Suppose we want to diaplay the month name with the number of days in it. So we can have a display string something like this -\n",
    "\n",
    "**display_string** = _\"month_name has number_of_days days in it.\"_\n",
    "\n",
    "Here we have two variable values in the string - *`month_name`* and the *`number_of_days`*\n",
    "\n",
    "So in the string, we use curly braces where we expect the variable values to be inserted and number them starting with 0 and incrementing by 1. So above display_string becomes:\n",
    "\n",
    "**display_string** = _\"{0} has {1} days in it.\"_ # not complete yet\n",
    "\n",
    "Finally we can provide the variable values. This we can accomplish using the format command. We provide all the variables inside the format command in a comma separated format. Number of values inside the format command must be same as the number of curly braces in the string. So finally our `display_string` becomes-\n",
    "\n",
    "**display_string** = _\"{0) has {1} days in it.\".format(month_name, number_of_days)_\n",
    "\n",
    "Lets try this out!"
   ]
  },
  {
   "cell_type": "code",
   "execution_count": 26,
   "metadata": {},
   "outputs": [
    {
     "name": "stdout",
     "output_type": "stream",
     "text": [
      "January has 31 days in it.\n"
     ]
    }
   ],
   "source": [
    "# Experimenting with format command to display number of days in January\n",
    "month_name = \"January\"\n",
    "number_of_days = 31\n",
    "\n",
    "display_string = \"{0} has {1} days in it.\".format(month_name, number_of_days)\n",
    "\n",
    "print(display_string)"
   ]
  },
  {
   "cell_type": "markdown",
   "metadata": {},
   "source": [
    "We don't really need to create the intermediate variable `display_string`. We can directly use the format comaand on the string inside the print command like we did in typecasting example above. So lets try one more time."
   ]
  },
  {
   "cell_type": "code",
   "execution_count": 27,
   "metadata": {},
   "outputs": [
    {
     "name": "stdout",
     "output_type": "stream",
     "text": [
      "April has 30 days in it.\n"
     ]
    }
   ],
   "source": [
    "# Experimenting with format command by removing intermediate variable display_string\n",
    "month_name = \"April\"\n",
    "number_of_days = 30\n",
    "\n",
    "print(\"{0} has {1} days in it.\".format(month_name, number_of_days))"
   ]
  },
  {
   "cell_type": "markdown",
   "metadata": {},
   "source": [
    "<hr>"
   ]
  },
  {
   "cell_type": "markdown",
   "metadata": {},
   "source": [
    "So coming back to typecasting, below is the example for casting an integer to a string"
   ]
  },
  {
   "cell_type": "markdown",
   "metadata": {},
   "source": [
    "***Typecasting integer to string***"
   ]
  },
  {
   "cell_type": "code",
   "execution_count": 28,
   "metadata": {},
   "outputs": [
    {
     "name": "stdout",
     "output_type": "stream",
     "text": [
      "Value of a is -5 and the type of a is <class 'int'>\n",
      "Value of b is -5 and the type of b is <class 'str'>\n"
     ]
    }
   ],
   "source": [
    "# Typecasting an integer to a string value\n",
    "a = -5\n",
    "print(\"Value of a is {} and the type of a is {}\".format(a, type(a)))\n",
    "\n",
    "b = str(a)\n",
    "print(\"Value of b is {} and the type of b is {}\".format(b, type(b)))"
   ]
  },
  {
   "cell_type": "markdown",
   "metadata": {},
   "source": [
    "*In the above example you might notice the value of* ***`b`*** *is not printed in quotes but is printed similar to the way value of* ***`a`*** is printed. This doesn't mean that ***`b`*** is not a string. ***`b`*** is indeed a string and the same is confirmed when we print the type of ***`b`***. We just don't see the quotation marks around the value of b because it is internally used within another string, so it becomes a part of the bigger string and thus doesn't have quotation marks. We can again verify ***`b`*** is a string by just printing ***`b`***."
   ]
  },
  {
   "cell_type": "code",
   "execution_count": 29,
   "metadata": {},
   "outputs": [
    {
     "data": {
      "text/plain": [
       "'-5'"
      ]
     },
     "execution_count": 29,
     "metadata": {},
     "output_type": "execute_result"
    }
   ],
   "source": [
    "b"
   ]
  },
  {
   "cell_type": "markdown",
   "metadata": {},
   "source": [
    "***Typecasting integer to bool***"
   ]
  },
  {
   "cell_type": "markdown",
   "metadata": {},
   "source": [
    "All the ***`positive integers`*** get typecasted to boolean ***`True`*** as we can see in the examples below-"
   ]
  },
  {
   "cell_type": "code",
   "execution_count": 30,
   "metadata": {},
   "outputs": [
    {
     "name": "stdout",
     "output_type": "stream",
     "text": [
      "Value of a is 1 and the type of a is <class 'int'>\n",
      "Value of b is True and the type of b is <class 'bool'>\n"
     ]
    }
   ],
   "source": [
    "# Typecasting a positive integer to bool\n",
    "a = 1\n",
    "print(\"Value of a is {} and the type of a is {}\".format(a, type(a)))\n",
    "\n",
    "b = bool(a)\n",
    "print(\"Value of b is {} and the type of b is {}\".format(b, type(b)))"
   ]
  },
  {
   "cell_type": "code",
   "execution_count": 31,
   "metadata": {},
   "outputs": [
    {
     "name": "stdout",
     "output_type": "stream",
     "text": [
      "Value of a is 10 and the type of a is <class 'int'>\n",
      "Value of b is True and the type of b is <class 'bool'>\n"
     ]
    }
   ],
   "source": [
    "# Another example of typecasting another positive integer to bool\n",
    "a = 10\n",
    "print(\"Value of a is {} and the type of a is {}\".format(a, type(a)))\n",
    "\n",
    "b = bool(a)\n",
    "print(\"Value of b is {} and the type of b is {}\".format(b, type(b)))"
   ]
  },
  {
   "cell_type": "markdown",
   "metadata": {},
   "source": [
    "How about ***`negative values`***? Lets try it out."
   ]
  },
  {
   "cell_type": "code",
   "execution_count": 32,
   "metadata": {},
   "outputs": [
    {
     "name": "stdout",
     "output_type": "stream",
     "text": [
      "Value of a is -1 and the type of a is <class 'int'>\n",
      "Value of b is True and the type of b is <class 'bool'>\n"
     ]
    }
   ],
   "source": [
    "# Typecasting a negative integer to bool\n",
    "a = -1\n",
    "print(\"Value of a is {} and the type of a is {}\".format(a, type(a)))\n",
    "\n",
    "b = bool(a)\n",
    "print(\"Value of b is {} and the type of b is {}\".format(b, type(b)))"
   ]
  },
  {
   "cell_type": "code",
   "execution_count": 33,
   "metadata": {},
   "outputs": [
    {
     "name": "stdout",
     "output_type": "stream",
     "text": [
      "Value of a is -10 and the type of a is <class 'int'>\n",
      "Value of b is True and the type of b is <class 'bool'>\n"
     ]
    }
   ],
   "source": [
    "# Another example of typecasting another negative integer to bool\n",
    "a = -10\n",
    "print(\"Value of a is {} and the type of a is {}\".format(a, type(a)))\n",
    "\n",
    "b = bool(a)\n",
    "print(\"Value of b is {} and the type of b is {}\".format(b, type(b)))"
   ]
  },
  {
   "cell_type": "markdown",
   "metadata": {},
   "source": [
    "So even all the ***`negative values`*** are typecasted to a boolean ***`True`*** value.\n",
    "\n",
    "Lets find out what happens with the integer value of ***`0`***."
   ]
  },
  {
   "cell_type": "code",
   "execution_count": 34,
   "metadata": {},
   "outputs": [
    {
     "name": "stdout",
     "output_type": "stream",
     "text": [
      "Value of a is 0 and the type of a is <class 'int'>\n",
      "Value of b is False and the type of b is <class 'bool'>\n"
     ]
    }
   ],
   "source": [
    "# Typecasting integer value of 0 to bool\n",
    "a = 0\n",
    "print(\"Value of a is {} and the type of a is {}\".format(a, type(a)))\n",
    "\n",
    "b = bool(a)\n",
    "print(\"Value of b is {} and the type of b is {}\".format(b, type(b)))"
   ]
  },
  {
   "cell_type": "markdown",
   "metadata": {},
   "source": [
    "So as we can see in the above example, integer value of ***`0`*** typecasted to boolean value ***`False`***.\n",
    "\n",
    "Thus now we know that an integer value of ***`0`*** typecasts to ***`False`*** whereas all other integer values ***`postive`*** or ***`negative`*** gets typecasted to ***`True`***."
   ]
  },
  {
   "cell_type": "markdown",
   "metadata": {},
   "source": [
    "***Typecasting float to int***"
   ]
  },
  {
   "cell_type": "code",
   "execution_count": 35,
   "metadata": {},
   "outputs": [
    {
     "name": "stdout",
     "output_type": "stream",
     "text": [
      "Value of a is 14.0 and the type of a is <class 'float'>\n",
      "Value of b is 14 and the type of b is <class 'int'>\n"
     ]
    }
   ],
   "source": [
    "# Typecasting float value to integer\n",
    "a = 14.0\n",
    "print(\"Value of a is {} and the type of a is {}\".format(a, type(a)))\n",
    "\n",
    "b = int(a)\n",
    "print(\"Value of b is {} and the type of b is {}\".format(b, type(b)))"
   ]
  },
  {
   "cell_type": "markdown",
   "metadata": {},
   "source": [
    "We just need to keep one thing in mind that typecasting a `float` value to `int` might result in the loss of information as can be seen in the example below-"
   ]
  },
  {
   "cell_type": "code",
   "execution_count": 36,
   "metadata": {},
   "outputs": [
    {
     "name": "stdout",
     "output_type": "stream",
     "text": [
      "Value of a is 3.14 and the type of a is <class 'float'>\n",
      "Value of b is 3 and the type of b is <class 'int'>\n"
     ]
    }
   ],
   "source": [
    "# Typecasting float value to int with loss of information\n",
    "a = 3.14\n",
    "print(\"Value of a is {} and the type of a is {}\".format(a, type(a)))\n",
    "\n",
    "b = int(a)\n",
    "print(\"Value of b is {} and the type of b is {}\".format(b, type(b)))"
   ]
  },
  {
   "cell_type": "markdown",
   "metadata": {},
   "source": [
    "As we can see in the above example, typecasting float value of ***`3.14`*** to int results in the integer value of ***`3`***. Thus we loose the information ***`0.14`*** in the process.\n",
    "\n",
    "Similarly we can typecaste `float` to `string` and `bool` as well as shown in examples below-"
   ]
  },
  {
   "cell_type": "markdown",
   "metadata": {},
   "source": [
    "***Typecasting float to string***"
   ]
  },
  {
   "cell_type": "code",
   "execution_count": 37,
   "metadata": {},
   "outputs": [
    {
     "name": "stdout",
     "output_type": "stream",
     "text": [
      "Value of a is 14.58 and the type of a is <class 'float'>\n",
      "Value of b is 14.58 and the type of b is <class 'str'>\n"
     ]
    }
   ],
   "source": [
    "# Typecasting float value to string\n",
    "a = 14.58\n",
    "print(\"Value of a is {} and the type of a is {}\".format(a, type(a)))\n",
    "\n",
    "b = str(a)\n",
    "print(\"Value of b is {} and the type of b is {}\".format(b, type(b)))"
   ]
  },
  {
   "cell_type": "markdown",
   "metadata": {},
   "source": [
    "***Typecasting float to bool***"
   ]
  },
  {
   "cell_type": "markdown",
   "metadata": {},
   "source": [
    "Like int, a float value of ***`0.0`*** gets typecasted to ***`False`***. Rest all float values whther positive or negative gets typecasted to ***`True`***."
   ]
  },
  {
   "cell_type": "code",
   "execution_count": 38,
   "metadata": {},
   "outputs": [
    {
     "name": "stdout",
     "output_type": "stream",
     "text": [
      "Value of a is 14.5 and the type of a is <class 'float'>\n",
      "Value of b is True and the type of b is <class 'bool'>\n"
     ]
    }
   ],
   "source": [
    "# Typecasting positive float value to bool\n",
    "a = 14.5\n",
    "print(\"Value of a is {} and the type of a is {}\".format(a, type(a)))\n",
    "\n",
    "b = bool(a)\n",
    "print(\"Value of b is {} and the type of b is {}\".format(b, type(b)))"
   ]
  },
  {
   "cell_type": "code",
   "execution_count": 39,
   "metadata": {},
   "outputs": [
    {
     "name": "stdout",
     "output_type": "stream",
     "text": [
      "Value of a is -1.5 and the type of a is <class 'float'>\n",
      "Value of b is True and the type of b is <class 'bool'>\n"
     ]
    }
   ],
   "source": [
    "# Typecasting negative float value to bool\n",
    "a = -1.5\n",
    "print(\"Value of a is {} and the type of a is {}\".format(a, type(a)))\n",
    "\n",
    "b = bool(a)\n",
    "print(\"Value of b is {} and the type of b is {}\".format(b, type(b)))"
   ]
  },
  {
   "cell_type": "code",
   "execution_count": 40,
   "metadata": {},
   "outputs": [
    {
     "name": "stdout",
     "output_type": "stream",
     "text": [
      "Value of a is 0.0 and the type of a is <class 'float'>\n",
      "Value of b is False and the type of b is <class 'bool'>\n"
     ]
    }
   ],
   "source": [
    "# Typecasting float value of 0 to bool\n",
    "a = 0.0\n",
    "print(\"Value of a is {} and the type of a is {}\".format(a, type(a)))\n",
    "\n",
    "b = bool(a)\n",
    "print(\"Value of b is {} and the type of b is {}\".format(b, type(b)))"
   ]
  },
  {
   "cell_type": "markdown",
   "metadata": {},
   "source": [
    "***Typecasting string to int***"
   ]
  },
  {
   "cell_type": "code",
   "execution_count": 41,
   "metadata": {},
   "outputs": [
    {
     "name": "stdout",
     "output_type": "stream",
     "text": [
      "Value of a is 145 and the type of a is <class 'str'>\n",
      "Value of b is 145 and the type of b is <class 'int'>\n"
     ]
    }
   ],
   "source": [
    "# Typecasting string value to int\n",
    "a = \"145\"\n",
    "print(\"Value of a is {} and the type of a is {}\".format(a, type(a)))\n",
    "\n",
    "b = int(a)\n",
    "print(\"Value of b is {} and the type of b is {}\".format(b, type(b)))"
   ]
  },
  {
   "cell_type": "markdown",
   "metadata": {},
   "source": [
    "***Typecasting string to float***"
   ]
  },
  {
   "cell_type": "code",
   "execution_count": 42,
   "metadata": {},
   "outputs": [
    {
     "name": "stdout",
     "output_type": "stream",
     "text": [
      "Value of a is 145.5 and the type of a is <class 'str'>\n",
      "Value of b is 145.5 and the type of b is <class 'float'>\n"
     ]
    }
   ],
   "source": [
    "# Typecasting string value to float\n",
    "a = \"145.5\"\n",
    "print(\"Value of a is {} and the type of a is {}\".format(a, type(a)))\n",
    "\n",
    "b = float(a)\n",
    "print(\"Value of b is {} and the type of b is {}\".format(b, type(b)))"
   ]
  },
  {
   "cell_type": "markdown",
   "metadata": {},
   "source": [
    "***Typecasting string to bool***"
   ]
  },
  {
   "cell_type": "markdown",
   "metadata": {},
   "source": [
    "Typecasting a non empty string results in ***`True`*** whereas typecasting of a empty string results in ***`False`***."
   ]
  },
  {
   "cell_type": "code",
   "execution_count": 43,
   "metadata": {},
   "outputs": [
    {
     "name": "stdout",
     "output_type": "stream",
     "text": [
      "Value of a is hello and the type of a is <class 'str'>\n",
      "Value of b is True and the type of b is <class 'bool'>\n"
     ]
    }
   ],
   "source": [
    "# Typecasting non-empty string to bool\n",
    "a = \"hello\"\n",
    "print(\"Value of a is {} and the type of a is {}\".format(a, type(a)))\n",
    "\n",
    "b = bool(a)\n",
    "print(\"Value of b is {} and the type of b is {}\".format(b, type(b)))"
   ]
  },
  {
   "cell_type": "code",
   "execution_count": 44,
   "metadata": {},
   "outputs": [
    {
     "name": "stdout",
     "output_type": "stream",
     "text": [
      "Value of a is  and the type of a is <class 'str'>\n",
      "Value of b is False and the type of b is <class 'bool'>\n"
     ]
    }
   ],
   "source": [
    "# Typecasting empty string to bool\n",
    "a = \"\"\n",
    "print(\"Value of a is {} and the type of a is {}\".format(a, type(a)))\n",
    "\n",
    "b = bool(a)\n",
    "print(\"Value of b is {} and the type of b is {}\".format(b, type(b)))"
   ]
  },
  {
   "cell_type": "markdown",
   "metadata": {},
   "source": [
    "***Typecasting bool to int***"
   ]
  },
  {
   "cell_type": "markdown",
   "metadata": {},
   "source": [
    "Boolean value of ***`True`*** gets typecasted to ***`1`*** whereas boolean value of ***`False`*** gets typecasted to ***`0`***."
   ]
  },
  {
   "cell_type": "code",
   "execution_count": 45,
   "metadata": {},
   "outputs": [
    {
     "name": "stdout",
     "output_type": "stream",
     "text": [
      "Value of a is True and the type of a is <class 'bool'>\n",
      "Value of b is 1 and the type of b is <class 'int'>\n"
     ]
    }
   ],
   "source": [
    "# Typecasting bool True to int\n",
    "a = True\n",
    "print(\"Value of a is {} and the type of a is {}\".format(a, type(a)))\n",
    "\n",
    "b = int(a)\n",
    "print(\"Value of b is {} and the type of b is {}\".format(b, type(b)))"
   ]
  },
  {
   "cell_type": "code",
   "execution_count": 46,
   "metadata": {},
   "outputs": [
    {
     "name": "stdout",
     "output_type": "stream",
     "text": [
      "Value of a is False and the type of a is <class 'bool'>\n",
      "Value of b is 0 and the type of b is <class 'int'>\n"
     ]
    }
   ],
   "source": [
    "# Typecasting bool False to int\n",
    "a = False\n",
    "print(\"Value of a is {} and the type of a is {}\".format(a, type(a)))\n",
    "\n",
    "b = int(a)\n",
    "print(\"Value of b is {} and the type of b is {}\".format(b, type(b)))"
   ]
  },
  {
   "cell_type": "markdown",
   "metadata": {},
   "source": [
    "***Typecasting bool to float***"
   ]
  },
  {
   "cell_type": "code",
   "execution_count": 47,
   "metadata": {},
   "outputs": [
    {
     "name": "stdout",
     "output_type": "stream",
     "text": [
      "Value of a is True and the type of a is <class 'bool'>\n",
      "Value of b is 1.0 and the type of b is <class 'float'>\n"
     ]
    }
   ],
   "source": [
    "# Typecasting bool True to float\n",
    "a = True\n",
    "print(\"Value of a is {} and the type of a is {}\".format(a, type(a)))\n",
    "\n",
    "b = float(a)\n",
    "print(\"Value of b is {} and the type of b is {}\".format(b, type(b)))"
   ]
  },
  {
   "cell_type": "code",
   "execution_count": 48,
   "metadata": {},
   "outputs": [
    {
     "name": "stdout",
     "output_type": "stream",
     "text": [
      "Value of a is False and the type of a is <class 'bool'>\n",
      "Value of b is 0.0 and the type of b is <class 'float'>\n"
     ]
    }
   ],
   "source": [
    "# Typecasting bool False to float\n",
    "a = False\n",
    "print(\"Value of a is {} and the type of a is {}\".format(a, type(a)))\n",
    "\n",
    "b = float(a)\n",
    "print(\"Value of b is {} and the type of b is {}\".format(b, type(b)))"
   ]
  },
  {
   "cell_type": "markdown",
   "metadata": {},
   "source": [
    "***Typecasting bool to string***"
   ]
  },
  {
   "cell_type": "code",
   "execution_count": 49,
   "metadata": {},
   "outputs": [
    {
     "name": "stdout",
     "output_type": "stream",
     "text": [
      "Value of a is True and the type of a is <class 'bool'>\n",
      "Value of b is True and the type of b is <class 'str'>\n"
     ]
    }
   ],
   "source": [
    "# Typecasting bool True to string\n",
    "a = True\n",
    "print(\"Value of a is {} and the type of a is {}\".format(a, type(a)))\n",
    "\n",
    "b = str(a)\n",
    "print(\"Value of b is {} and the type of b is {}\".format(b, type(b)))"
   ]
  },
  {
   "cell_type": "code",
   "execution_count": 50,
   "metadata": {},
   "outputs": [
    {
     "name": "stdout",
     "output_type": "stream",
     "text": [
      "Value of a is False and the type of a is <class 'bool'>\n",
      "Value of b is False and the type of b is <class 'str'>\n"
     ]
    }
   ],
   "source": [
    "# Typecasting bool False to string\n",
    "a = False\n",
    "print(\"Value of a is {} and the type of a is {}\".format(a, type(a)))\n",
    "\n",
    "b = str(a)\n",
    "print(\"Value of b is {} and the type of b is {}\".format(b, type(b)))"
   ]
  },
  {
   "cell_type": "markdown",
   "metadata": {},
   "source": [
    "## Mathematical operations on variables"
   ]
  },
  {
   "cell_type": "markdown",
   "metadata": {},
   "source": [
    "Python supports different kinds of mathematical operations to manipulate the values as needed - \n",
    "\n",
    "-  ***`+`*** - Addition\n",
    "-  ***`-`*** - Subtraction\n",
    "-  ___`*`___ - Multiplication\n",
    "-  ***`/`*** - Floating division\n",
    "-  ***`//`*** - Integer division\n",
    "-  ***`%`*** - Remainder\n",
    "-  ___`**`___ - Exponentiation\n",
    "\n",
    "Below example shows the usage of all these mathematical operations-"
   ]
  },
  {
   "cell_type": "code",
   "execution_count": 51,
   "metadata": {},
   "outputs": [
    {
     "name": "stdout",
     "output_type": "stream",
     "text": [
      "Result of '+' for 8 and 10 is 18.\n",
      "Result of '-' for 8 and 10 is -2.\n",
      "Result of '*' for 8 and 10 is 80.\n",
      "Result of '/' for 8 and 10 is 0.8.\n",
      "Result of '//' for 8 and 10 is 0.\n",
      "Result of '%' for 8 and 10 is 8.\n",
      "Result of '**' for 8 and 10 is 1073741824.\n"
     ]
    }
   ],
   "source": [
    "# Mathematical operations example\n",
    "a = 8\n",
    "b = 10\n",
    "\n",
    "# Addition\n",
    "print(\"Result of '+' for {0} and {1} is {2}.\".format(a, b, a + b))\n",
    "\n",
    "# Subtraction\n",
    "print(\"Result of '-' for {0} and {1} is {2}.\".format(a, b, a - b))\n",
    "\n",
    "# Multiplication\n",
    "print(\"Result of '*' for {0} and {1} is {2}.\".format(a, b, a * b))\n",
    "\n",
    "# Floating division - result is float\n",
    "print(\"Result of '/' for {0} and {1} is {2}.\".format(a, b, a / b))\n",
    "\n",
    "# Integer division - result is int\n",
    "print(\"Result of '//' for {0} and {1} is {2}.\".format(a, b, a // b))\n",
    "\n",
    "# Remainder\n",
    "print(\"Result of '%' for {0} and {1} is {2}.\".format(a, b, a % b))\n",
    "\n",
    "# Exponentiation\n",
    "print(\"Result of '**' for {0} and {1} is {2}.\".format(a, b, a ** b))"
   ]
  },
  {
   "cell_type": "markdown",
   "metadata": {},
   "source": [
    "Python follows all the mathematical conventions while performing calculations. All calculations as carried out as per ***`BEDMAS`*** - (Brackets, Exponentiation, Division, Multiplication, Addition, Subtraction).\n",
    "\n",
    "This can be observed in the below example-"
   ]
  },
  {
   "cell_type": "code",
   "execution_count": 52,
   "metadata": {},
   "outputs": [
    {
     "name": "stdout",
     "output_type": "stream",
     "text": [
      "11.857142857142858\n"
     ]
    }
   ],
   "source": [
    "# Example of BEDMAS\n",
    "print(4 * 5 - 9 + 6 / 7)"
   ]
  },
  {
   "cell_type": "markdown",
   "metadata": {},
   "source": [
    "We can perform operations on variables and store the result in a new variable as needed. Refer to the example below -"
   ]
  },
  {
   "cell_type": "code",
   "execution_count": 53,
   "metadata": {},
   "outputs": [
    {
     "name": "stdout",
     "output_type": "stream",
     "text": [
      "Value of a is 5\n",
      "Value of b is 7\n"
     ]
    }
   ],
   "source": [
    "# Mathematical operation on variable and storing result in another variable\n",
    "a = 5\n",
    "print(\"Value of a is {}\".format(a))\n",
    "\n",
    "b = a + 2;\n",
    "print(\"Value of b is {}\".format(b))"
   ]
  },
  {
   "cell_type": "markdown",
   "metadata": {},
   "source": [
    "We can update the value of a variable as well as shown below -"
   ]
  },
  {
   "cell_type": "code",
   "execution_count": 54,
   "metadata": {},
   "outputs": [
    {
     "name": "stdout",
     "output_type": "stream",
     "text": [
      "Initial value of x is 5\n",
      "After update, value of x is 25\n"
     ]
    }
   ],
   "source": [
    "x = 5\n",
    "print(\"Initial value of x is {}\".format(x))\n",
    "\n",
    "x = x*5\n",
    "print(\"After update, value of x is {}\".format(x))"
   ]
  },
  {
   "cell_type": "markdown",
   "metadata": {},
   "source": [
    "## String"
   ]
  },
  {
   "cell_type": "markdown",
   "metadata": {},
   "source": [
    "***String*** is such an important data type in any programming language that it deserves a dedicated section of its own. It is very important to understand Strings as they prove to be the entry point of much more complex concepts like collections, indexing and slicing in python. However it is not that difficult to understand all these concepts and once clear it will pave a strong foundation for future complex concepts. So lets get started."
   ]
  },
  {
   "cell_type": "markdown",
   "metadata": {},
   "source": [
    "A ***string*** can be described as a ordered sequence of characters. To understand this lets take an example string."
   ]
  },
  {
   "cell_type": "code",
   "execution_count": 55,
   "metadata": {},
   "outputs": [
    {
     "name": "stdout",
     "output_type": "stream",
     "text": [
      "Hello World\n"
     ]
    }
   ],
   "source": [
    "my_string = \"Hello World\"\n",
    "print(my_string)"
   ]
  },
  {
   "cell_type": "markdown",
   "metadata": {},
   "source": [
    "Now we can consider the string variable ***`my_string`*** as an ordered collection of individual characters which in this case would be ordered sequence of - _`'H', 'e', 'l', 'l', 'o', ' ', 'W', 'o', 'r', 'l', 'd'`_\n",
    "\n",
    "And `ordered` because these charcters appear in a specific order. If we were to change the order of any character it will become a new string. Suppose we were to change the positions of *`'H'`* and *`'W'`*, new string will become *`\"Wello Horld\"`* which is definitely not the same as *`\"Hello World\"`*."
   ]
  },
  {
   "cell_type": "markdown",
   "metadata": {},
   "source": [
    "Since a string is nothing but a ordered collection of charcters, we can count the number of charcters in the string. For our example `my_string` is made of 11 individual characters. This is known as the `length` of the string. So our `my_string` has a length of 11.\n",
    "\n",
    "We can find the length of any string in python using the ***`len()`*** command."
   ]
  },
  {
   "cell_type": "code",
   "execution_count": 56,
   "metadata": {},
   "outputs": [
    {
     "name": "stdout",
     "output_type": "stream",
     "text": [
      "11\n"
     ]
    }
   ],
   "source": [
    "# Finding length of my_string using len() command\n",
    "length = len(my_string)\n",
    "print(length)"
   ]
  },
  {
   "cell_type": "markdown",
   "metadata": {},
   "source": [
    "which is the same as we expected. Now lets consider one more example -"
   ]
  },
  {
   "cell_type": "code",
   "execution_count": 57,
   "metadata": {},
   "outputs": [
    {
     "name": "stdout",
     "output_type": "stream",
     "text": [
      "27\n"
     ]
    }
   ],
   "source": [
    "# Program to find length of another string\n",
    "new_string = \"I wish today was a holiday!\"\n",
    "new_string_length = len(new_string)\n",
    "print(new_string_length)"
   ]
  },
  {
   "cell_type": "markdown",
   "metadata": {},
   "source": [
    "If you count the number of charcters in value of new_string, you will find there are exactly 27 charcters."
   ]
  },
  {
   "cell_type": "markdown",
   "metadata": {},
   "source": [
    "### Indexing in strings"
   ]
  },
  {
   "cell_type": "markdown",
   "metadata": {},
   "source": [
    "Now since we define a string as an ordered sequence of characters, we can use integer positions to specify the location of each character. This is known as ***`indexing`***. In python we start the indexing from 0. So we say that the `index of first charcter is 0`, `of second character is 1` and so on till we reach the end of the string. It will become more clear with the help of the image below-\n",
    "\n",
    "![string_with_positive_indexing](https://learn-ml-and-ai-blog-resources.s3.us-east-2.amazonaws.com/PythonFundamentals/string_with_positive_indexing.png)"
   ]
  },
  {
   "cell_type": "markdown",
   "metadata": {},
   "source": [
    "So for the string variable `my_string` shown in image above, we can say that the character at `index 0 is 'H'`, at `index 1 is 'e'`, at `index 5 is ' '` and so on. Notice that the index of the last character is 10 which is 1 less than the length 11 of the string. This makes sense because indexing starts from 0.\n",
    "\n",
    "So we can say that the index of last character of any string will be `length of string - 1`."
   ]
  },
  {
   "cell_type": "markdown",
   "metadata": {},
   "source": [
    "Python provides us functionality to access character at a specific position using index. We can do this by specifying the index in square brackets after the name of the string like - `my_string[index]`. To access the character at index 0, we will replace the index in the above syntax with 0 so it becomes `my_string[0]`. This should give us `'H'`. Lets try if it works."
   ]
  },
  {
   "cell_type": "code",
   "execution_count": 58,
   "metadata": {},
   "outputs": [
    {
     "data": {
      "text/plain": [
       "'H'"
      ]
     },
     "execution_count": 58,
     "metadata": {},
     "output_type": "execute_result"
    }
   ],
   "source": [
    "# Get charcter at index 0 of my_string\n",
    "my_string[0]"
   ]
  },
  {
   "cell_type": "markdown",
   "metadata": {},
   "source": [
    "Yes it works! Now lets try getting the charcter at index say 4. We know it should be `'o'`."
   ]
  },
  {
   "cell_type": "code",
   "execution_count": 59,
   "metadata": {},
   "outputs": [
    {
     "data": {
      "text/plain": [
       "'o'"
      ]
     },
     "execution_count": 59,
     "metadata": {},
     "output_type": "execute_result"
    }
   ],
   "source": [
    "# Get charcter at index 0 of my_string\n",
    "my_string[4]"
   ]
  },
  {
   "cell_type": "markdown",
   "metadata": {},
   "source": [
    "Works as expected. This way we can access charcter at any index of the string. \n",
    "\n",
    "One thing to keep in mind is that the index value should be a valid value. If we use an index value which doesn't exist python will throw an error. Lets try getting the charcter at index 15 which we know is an invalid index (since max index for `my_string` is 10)."
   ]
  },
  {
   "cell_type": "code",
   "execution_count": 60,
   "metadata": {},
   "outputs": [
    {
     "ename": "IndexError",
     "evalue": "string index out of range",
     "output_type": "error",
     "traceback": [
      "\u001b[0;31m---------------------------------------------------------------------------\u001b[0m",
      "\u001b[0;31mIndexError\u001b[0m                                Traceback (most recent call last)",
      "\u001b[0;32m<ipython-input-60-986475299d1f>\u001b[0m in \u001b[0;36m<module>\u001b[0;34m\u001b[0m\n\u001b[1;32m      1\u001b[0m \u001b[0;31m# Get charcter at an invalid index\u001b[0m\u001b[0;34m\u001b[0m\u001b[0;34m\u001b[0m\u001b[0;34m\u001b[0m\u001b[0m\n\u001b[0;32m----> 2\u001b[0;31m \u001b[0mmy_string\u001b[0m\u001b[0;34m[\u001b[0m\u001b[0;36m15\u001b[0m\u001b[0;34m]\u001b[0m\u001b[0;34m\u001b[0m\u001b[0;34m\u001b[0m\u001b[0m\n\u001b[0m",
      "\u001b[0;31mIndexError\u001b[0m: string index out of range"
     ]
    }
   ],
   "source": [
    "# Get charcter at an invalid index\n",
    "my_string[15]"
   ]
  },
  {
   "cell_type": "markdown",
   "metadata": {},
   "source": [
    "As expected, python throws an error. So we should take care that we use only valid index values.\n",
    "\n",
    "Now python supports negative indexing for strings as well. Negative indexing starts from -1 and from the right end of the string as shown in image below.\n",
    "\n",
    "![string_with_negative_indexing](https://learn-ml-and-ai-blog-resources.s3.us-east-2.amazonaws.com/PythonFundamentals/string_with_negative_indexing.png)"
   ]
  },
  {
   "cell_type": "code",
   "execution_count": 61,
   "metadata": {},
   "outputs": [
    {
     "data": {
      "text/plain": [
       "'d'"
      ]
     },
     "execution_count": 61,
     "metadata": {},
     "output_type": "execute_result"
    }
   ],
   "source": [
    "# Get character at index -1 of my_string\n",
    "my_string[-1]"
   ]
  },
  {
   "cell_type": "code",
   "execution_count": 62,
   "metadata": {},
   "outputs": [
    {
     "data": {
      "text/plain": [
       "'o'"
      ]
     },
     "execution_count": 62,
     "metadata": {},
     "output_type": "execute_result"
    }
   ],
   "source": [
    "# Get character at index -4 of my_string\n",
    "my_string[-4]"
   ]
  },
  {
   "cell_type": "code",
   "execution_count": 63,
   "metadata": {},
   "outputs": [
    {
     "data": {
      "text/plain": [
       "'e'"
      ]
     },
     "execution_count": 63,
     "metadata": {},
     "output_type": "execute_result"
    }
   ],
   "source": [
    "# Get character at index -10 of my_string\n",
    "my_string[-10]"
   ]
  },
  {
   "cell_type": "markdown",
   "metadata": {},
   "source": [
    "### Slicing in strings"
   ]
  },
  {
   "cell_type": "markdown",
   "metadata": {},
   "source": [
    "Now instead of getting a single character from a string, we can get a group of charcters as well starting from a valid index and ending at a valid index. This is known as slicing as we pickout a slice or a group of characters from the original string.\n",
    "\n",
    "Let me add the image of positive indexing again for our reference. Slicing can work for negative indexing as well, but lets first understand it for positive indexing and then we will see how to do slicing using negative indexing.\n",
    "\n",
    "![string_with_positive_indexing](https://learn-ml-and-ai-blog-resources.s3.us-east-2.amazonaws.com/PythonFundamentals/string_with_positive_indexing.png)\n",
    "\n",
    "Now the syntax of slicing is that we have a square brackets following the string name. And in the square brackets we specify the `starting_index_of_slice` and the `ending_index_of_slice + 1` separated by a `:`. \n",
    "\n",
    "So the syntax becomes - ***`my_string[start_index : end_index + 1]`***.\n",
    "\n",
    "Suppose we want to get the slice starting from index 2 and ending at index 8, our syntax in this case becomes -\n",
    "\n",
    "***`my_string[2 : 8+1]`***\n",
    "\n",
    "or ***`my_string[2 : 9]`***\n",
    "\n",
    "Lets see if it works. Output should be `'llo Wor'`."
   ]
  },
  {
   "cell_type": "code",
   "execution_count": 64,
   "metadata": {},
   "outputs": [
    {
     "data": {
      "text/plain": [
       "'llo Wor'"
      ]
     },
     "execution_count": 64,
     "metadata": {},
     "output_type": "execute_result"
    }
   ],
   "source": [
    "# Print slice of my_string starting at 2 and ending at 8\n",
    "my_string[2: 9]"
   ]
  },
  {
   "cell_type": "markdown",
   "metadata": {},
   "source": [
    "Which as we see is what we expected in the output. Now lets try one more time. This time lets try to get slice starting from index 0 and ending at index 6. For this our syntax becomes-\n",
    "\n",
    "***`my_string[0 : 6+1]`***\n",
    "\n",
    "or ***`my_string[0 : 7]`***\n",
    "\n",
    "Lets try if it works. Output should be `'Hello W'`."
   ]
  },
  {
   "cell_type": "code",
   "execution_count": 65,
   "metadata": {},
   "outputs": [
    {
     "data": {
      "text/plain": [
       "'Hello W'"
      ]
     },
     "execution_count": 65,
     "metadata": {},
     "output_type": "execute_result"
    }
   ],
   "source": [
    "# Print slice of my_string starting at 0 and ending at 6\n",
    "my_string[0: 7]"
   ]
  },
  {
   "cell_type": "markdown",
   "metadata": {},
   "source": [
    "Which is again the expected output.\n",
    "\n",
    "Now in slicing we can have minor variations. \n",
    "-  Suppose we want a slice starting from index 0 which is the first charcter of the string. In this case it is not necessary to specify the starting index in the syntax. So syntax becomes - `my_string[ : end_index + 1]`\n",
    "-  Suppose we want a slice ending at the last charcter of the string. In this case it is not necessary to specify the ending index of the slice in the syntax. So syntax becomes - `my_string[start_index : ]`\n",
    "\n",
    "Suppose if we want the entire string as a slice, in this case both the conditions mentioned above becomes true. This we can omit both the start_index and the end_index in the syntax. So for this case syntax becomes - `my_string[ : ]`.\n",
    "\n",
    "Lets try all these three cases."
   ]
  },
  {
   "cell_type": "code",
   "execution_count": 66,
   "metadata": {},
   "outputs": [
    {
     "data": {
      "text/plain": [
       "'Hello W'"
      ]
     },
     "execution_count": 66,
     "metadata": {},
     "output_type": "execute_result"
    }
   ],
   "source": [
    "# Example of slicing starting from first charcter, so omitting start_index from syntax\n",
    "my_string[ : 7]"
   ]
  },
  {
   "cell_type": "code",
   "execution_count": 67,
   "metadata": {},
   "outputs": [
    {
     "data": {
      "text/plain": [
       "'lo World'"
      ]
     },
     "execution_count": 67,
     "metadata": {},
     "output_type": "execute_result"
    }
   ],
   "source": [
    "# Example of slicing ending at last charcter, so omitting end_index from syntax\n",
    "my_string[3 : ]"
   ]
  },
  {
   "cell_type": "code",
   "execution_count": 68,
   "metadata": {},
   "outputs": [
    {
     "data": {
      "text/plain": [
       "'Hello World'"
      ]
     },
     "execution_count": 68,
     "metadata": {},
     "output_type": "execute_result"
    }
   ],
   "source": [
    "# Getting entire string as a slice\n",
    "my_string[ : ]"
   ]
  },
  {
   "cell_type": "markdown",
   "metadata": {},
   "source": [
    "Now since we are familiar with the concept of slicing, it will be easy for us to understand slicing using negative indexing. Let me add the negative indexing image again for the reference.\n",
    "\n",
    "![string_with_negative_indexing](https://learn-ml-and-ai-blog-resources.s3.us-east-2.amazonaws.com/PythonFundamentals/string_with_negative_indexing.png)\n",
    "\n",
    "Now with this image as reference, try to understand the below experiments of slicing using negative indexing. Comments should help."
   ]
  },
  {
   "cell_type": "code",
   "execution_count": 69,
   "metadata": {},
   "outputs": [
    {
     "data": {
      "text/plain": [
       "'ello Wor'"
      ]
     },
     "execution_count": 69,
     "metadata": {},
     "output_type": "execute_result"
    }
   ],
   "source": [
    "# Print slice of my_string starting at -10 index and ending at -3 index\n",
    "my_string[-10 : -3 + 1]"
   ]
  },
  {
   "cell_type": "code",
   "execution_count": 70,
   "metadata": {},
   "outputs": [
    {
     "data": {
      "text/plain": [
       "'ello Wor'"
      ]
     },
     "execution_count": 70,
     "metadata": {},
     "output_type": "execute_result"
    }
   ],
   "source": [
    "# same as above, with end_index simplified\n",
    "my_string[-10 : -2]"
   ]
  },
  {
   "cell_type": "code",
   "execution_count": 71,
   "metadata": {},
   "outputs": [
    {
     "data": {
      "text/plain": [
       "'o Wo'"
      ]
     },
     "execution_count": 71,
     "metadata": {},
     "output_type": "execute_result"
    }
   ],
   "source": [
    "# Print slice of my_string starting at -7 index and ending at -4 index\n",
    "my_string[-7 : -3]"
   ]
  },
  {
   "cell_type": "code",
   "execution_count": 72,
   "metadata": {},
   "outputs": [
    {
     "data": {
      "text/plain": [
       "'Hello Wor'"
      ]
     },
     "execution_count": 72,
     "metadata": {},
     "output_type": "execute_result"
    }
   ],
   "source": [
    "# Print slice of my_string starting from first charcter and ending at -3 index\n",
    "my_string[ : -2]"
   ]
  },
  {
   "cell_type": "code",
   "execution_count": 73,
   "metadata": {},
   "outputs": [
    {
     "data": {
      "text/plain": [
       "'ello World'"
      ]
     },
     "execution_count": 73,
     "metadata": {},
     "output_type": "execute_result"
    }
   ],
   "source": [
    "# Print slice of my_string starting at -10 index and ending at last character\n",
    "my_string[-10 : ]"
   ]
  },
  {
   "cell_type": "markdown",
   "metadata": {},
   "source": [
    "Till now we have considered slices where we get continuous sequence of charcters. We can get a slice formed of every second character as well as in the example below -"
   ]
  },
  {
   "cell_type": "code",
   "execution_count": 74,
   "metadata": {},
   "outputs": [
    {
     "data": {
      "text/plain": [
       "'HloWrd'"
      ]
     },
     "execution_count": 74,
     "metadata": {},
     "output_type": "execute_result"
    }
   ],
   "source": [
    "# Slice consiting of every second character of the string\n",
    "my_string[0 : 12 : 2]"
   ]
  },
  {
   "cell_type": "markdown",
   "metadata": {},
   "source": [
    "In this example, we started at index 0 and picked every second element after that till index 12-1 i.e. 11.\n",
    "So we picked -\n",
    "\n",
    "0  -> 'H'\n",
    "\n",
    "2  -> 'l'\n",
    "\n",
    "4  -> 'o' \n",
    "\n",
    "6  -> 'W'\n",
    "\n",
    "8  -> 'r'\n",
    "\n",
    "10 -> 'd'\n",
    "\n",
    "So we can consider the extra parameter that we included in the syntax my_string[0 : 12 : ***`2`***] can be considered as the stride/step size. Till now when we were not providing it, default value of 1 was being used so we were getting the continuous sequence of characters.\n",
    "\n",
    "Now lets getting every third element of the entire string starting from the first character."
   ]
  },
  {
   "cell_type": "code",
   "execution_count": 75,
   "metadata": {},
   "outputs": [
    {
     "data": {
      "text/plain": [
       "'HlWl'"
      ]
     },
     "execution_count": 75,
     "metadata": {},
     "output_type": "execute_result"
    }
   ],
   "source": [
    "# Slice consiting of every third character of the string\n",
    "my_string[ :  : 3]"
   ]
  },
  {
   "cell_type": "markdown",
   "metadata": {},
   "source": [
    "### Operations on strings"
   ]
  },
  {
   "cell_type": "markdown",
   "metadata": {},
   "source": [
    "***Concatenation***"
   ]
  },
  {
   "cell_type": "markdown",
   "metadata": {},
   "source": [
    "We can concatenate two strings using `'+'` operator. The result is a new string. Consider the example below for this-"
   ]
  },
  {
   "cell_type": "code",
   "execution_count": 76,
   "metadata": {},
   "outputs": [
    {
     "data": {
      "text/plain": [
       "'Michael Jackson'"
      ]
     },
     "execution_count": 76,
     "metadata": {},
     "output_type": "execute_result"
    }
   ],
   "source": [
    "# Concatenation of two string using +\n",
    "string_one = \"Michael\"\n",
    "string_two = \" Jackson\"\n",
    "\n",
    "string_one + string_two"
   ]
  },
  {
   "cell_type": "markdown",
   "metadata": {},
   "source": [
    "***Replication***"
   ]
  },
  {
   "cell_type": "markdown",
   "metadata": {},
   "source": [
    "We can replicate a string n times by using `'*'` operator. Result is a new string."
   ]
  },
  {
   "cell_type": "code",
   "execution_count": 77,
   "metadata": {},
   "outputs": [
    {
     "data": {
      "text/plain": [
       "'HelloHello'"
      ]
     },
     "execution_count": 77,
     "metadata": {},
     "output_type": "execute_result"
    }
   ],
   "source": [
    "# Replicating a string two times using *\n",
    "string = \"Hello\"\n",
    "string * 2"
   ]
  },
  {
   "cell_type": "code",
   "execution_count": 78,
   "metadata": {},
   "outputs": [
    {
     "data": {
      "text/plain": [
       "'HelloHelloHelloHelloHello'"
      ]
     },
     "execution_count": 78,
     "metadata": {},
     "output_type": "execute_result"
    }
   ],
   "source": [
    "# Replicating a string 5 times using *\n",
    "string * 5"
   ]
  },
  {
   "cell_type": "markdown",
   "metadata": {},
   "source": [
    "### Immutability of strings"
   ]
  },
  {
   "cell_type": "markdown",
   "metadata": {},
   "source": [
    "String are ***immutable***. That means that we can't change a string value once created. Although we can always create a new string.\n",
    "\n",
    "Consider we created a string variable as below-"
   ]
  },
  {
   "cell_type": "code",
   "execution_count": 79,
   "metadata": {},
   "outputs": [],
   "source": [
    "# Create a string variable to try mutating it\n",
    "s = \"Car\""
   ]
  },
  {
   "cell_type": "markdown",
   "metadata": {},
   "source": [
    "Now if we try to change the first charcter from 'C' to 'B', python doesn't allow us to do that as shown below."
   ]
  },
  {
   "cell_type": "code",
   "execution_count": 80,
   "metadata": {},
   "outputs": [
    {
     "ename": "TypeError",
     "evalue": "'str' object does not support item assignment",
     "output_type": "error",
     "traceback": [
      "\u001b[0;31m---------------------------------------------------------------------------\u001b[0m",
      "\u001b[0;31mTypeError\u001b[0m                                 Traceback (most recent call last)",
      "\u001b[0;32m<ipython-input-80-2a57f81da671>\u001b[0m in \u001b[0;36m<module>\u001b[0;34m\u001b[0m\n\u001b[1;32m      1\u001b[0m \u001b[0;31m# Try changing C to B\u001b[0m\u001b[0;34m\u001b[0m\u001b[0;34m\u001b[0m\u001b[0;34m\u001b[0m\u001b[0m\n\u001b[0;32m----> 2\u001b[0;31m \u001b[0ms\u001b[0m\u001b[0;34m[\u001b[0m\u001b[0;36m0\u001b[0m\u001b[0;34m]\u001b[0m \u001b[0;34m=\u001b[0m \u001b[0;34m'B'\u001b[0m\u001b[0;34m\u001b[0m\u001b[0;34m\u001b[0m\u001b[0m\n\u001b[0m",
      "\u001b[0;31mTypeError\u001b[0m: 'str' object does not support item assignment"
     ]
    }
   ],
   "source": [
    "# Try changing C to B\n",
    "s[0] = 'B'"
   ]
  },
  {
   "cell_type": "markdown",
   "metadata": {},
   "source": [
    "Although we can always assign the entire new value of `'Bar'` to ***`s`***. But this will lead to the creation of a new string and ***`s`*** will then refer to that.\n",
    "\n",
    "To see this, lets use the `id()` command which tells us the address of any variable.\n",
    "\n",
    "Lets first find the current address of ***`s`***."
   ]
  },
  {
   "cell_type": "code",
   "execution_count": 81,
   "metadata": {},
   "outputs": [
    {
     "data": {
      "text/plain": [
       "140730637666288"
      ]
     },
     "execution_count": 81,
     "metadata": {},
     "output_type": "execute_result"
    }
   ],
   "source": [
    "# Find original address of s\n",
    "id(s)"
   ]
  },
  {
   "cell_type": "markdown",
   "metadata": {},
   "source": [
    "Now lets assign the new value of `'Bar'` to ***`s`*** and get the address again."
   ]
  },
  {
   "cell_type": "code",
   "execution_count": 82,
   "metadata": {},
   "outputs": [
    {
     "data": {
      "text/plain": [
       "140730623510448"
      ]
     },
     "execution_count": 82,
     "metadata": {},
     "output_type": "execute_result"
    }
   ],
   "source": [
    "# Assign a new value to s and get new address\n",
    "s = 'Bar'\n",
    "id(s)"
   ]
  },
  {
   "cell_type": "markdown",
   "metadata": {},
   "source": [
    "As we can see that the two addresses are not same which points that ***`s`*** has become a new string after we assigned a new value."
   ]
  },
  {
   "cell_type": "markdown",
   "metadata": {},
   "source": [
    "### String methods"
   ]
  },
  {
   "cell_type": "markdown",
   "metadata": {},
   "source": [
    "Python has a large number of methods available for string manipulation. Here we introduce you some of them."
   ]
  },
  {
   "cell_type": "markdown",
   "metadata": {},
   "source": [
    "***Convert a string to upper case using `upper()` method***"
   ]
  },
  {
   "cell_type": "code",
   "execution_count": 83,
   "metadata": {},
   "outputs": [
    {
     "data": {
      "text/plain": [
       "'MICHAEL JACKSON'"
      ]
     },
     "execution_count": 83,
     "metadata": {},
     "output_type": "execute_result"
    }
   ],
   "source": [
    "# Convert string to uppercase\n",
    "\n",
    "name = \"Michael Jackson\"\n",
    "name.upper()"
   ]
  },
  {
   "cell_type": "markdown",
   "metadata": {},
   "source": [
    "***Convert a string to lower case using `lower()` method***"
   ]
  },
  {
   "cell_type": "code",
   "execution_count": 84,
   "metadata": {},
   "outputs": [
    {
     "data": {
      "text/plain": [
       "'michael jackson'"
      ]
     },
     "execution_count": 84,
     "metadata": {},
     "output_type": "execute_result"
    }
   ],
   "source": [
    "# Convert string to lowercase\n",
    "\n",
    "name = \"Michael Jackson\"\n",
    "name.lower()"
   ]
  },
  {
   "cell_type": "markdown",
   "metadata": {},
   "source": [
    "***Finding a substring***\n",
    "\n",
    "We can find where a substring exists in a string if it exists using `find()` method. It return the starting index of the substring in the bigger string if it exists else return -1."
   ]
  },
  {
   "cell_type": "code",
   "execution_count": 85,
   "metadata": {},
   "outputs": [
    {
     "data": {
      "text/plain": [
       "8"
      ]
     },
     "execution_count": 85,
     "metadata": {},
     "output_type": "execute_result"
    }
   ],
   "source": [
    "# Find substring 'Jack' in name\n",
    "name.find('Jack')"
   ]
  },
  {
   "cell_type": "code",
   "execution_count": 86,
   "metadata": {},
   "outputs": [
    {
     "data": {
      "text/plain": [
       "-1"
      ]
     },
     "execution_count": 86,
     "metadata": {},
     "output_type": "execute_result"
    }
   ],
   "source": [
    "# Find substring which doesn't exist\n",
    "name.find('abc')"
   ]
  },
  {
   "cell_type": "markdown",
   "metadata": {},
   "source": [
    "***Replacing a substring***\n",
    "\n",
    "In addition to finding a substring, we can replace the substring with another substring as well using `replace()` function."
   ]
  },
  {
   "cell_type": "code",
   "execution_count": 87,
   "metadata": {},
   "outputs": [
    {
     "data": {
      "text/plain": [
       "'Michael Schumacher'"
      ]
     },
     "execution_count": 87,
     "metadata": {},
     "output_type": "execute_result"
    }
   ],
   "source": [
    "# Replace substring 'Jackson' with 'Schumacher'\n",
    "name.replace('Jackson', \"Schumacher\")"
   ]
  },
  {
   "cell_type": "code",
   "execution_count": 88,
   "metadata": {},
   "outputs": [
    {
     "data": {
      "text/plain": [
       "'Michael Jackson'"
      ]
     },
     "execution_count": 88,
     "metadata": {},
     "output_type": "execute_result"
    }
   ],
   "source": [
    "name"
   ]
  },
  {
   "cell_type": "markdown",
   "metadata": {},
   "source": [
    "As we can see `replace()` method results in a new string. ***`name`*** still contains the same value as earlier.\n",
    "\n",
    "*There are lots and lots of methods avaialble to manipulate string as per need. You dont really need to know them all. You can always look up for one when needed. Or if it doesn't exist, you can create one of your own!"
   ]
  },
  {
   "cell_type": "markdown",
   "metadata": {},
   "source": [
    "<hr>\n",
    "\n",
    "*So this brings us to the end of the Part 1 of this series of posts on Python Fundamentals. Hope you found this useful.* \n",
    "\n",
    "You can read Part 2 of the series [here](http://learningmlandai.com/python-fundamentals-part-2/) in which we have discussed about ***`collections`*** in Python. Or you can view all the posts in this series [here](http://learningmlandai.com/python-fundamentals/).\n",
    "\n",
    "You can checkout the source notebook for this post [here](https://github.com/guptanik/python-fundamentals/blob/master/PythonFundamentals-Part1.ipynb) on Github."
   ]
  },
  {
   "cell_type": "markdown",
   "metadata": {},
   "source": [
    "***Additional Resources***\n",
    "\n",
    "-  __[Source Notebook for this post](https://github.com/guptanik/python-fundamentals/blob/master/PythonFundamentals-Part1.ipynb)__\n",
    "-  __[Python Official Site](https://www.python.org/)__\n",
    "-  __[Applications of Python](https://www.python.org/about/apps/)__\n",
    "-  __[Official documentation](https://docs.python.org/3/)__"
   ]
  }
 ],
 "metadata": {
  "kernelspec": {
   "display_name": "Python 3",
   "language": "python",
   "name": "python3"
  },
  "language_info": {
   "codemirror_mode": {
    "name": "ipython",
    "version": 3
   },
   "file_extension": ".py",
   "mimetype": "text/x-python",
   "name": "python",
   "nbconvert_exporter": "python",
   "pygments_lexer": "ipython3",
   "version": "3.7.6"
  }
 },
 "nbformat": 4,
 "nbformat_minor": 4
}
