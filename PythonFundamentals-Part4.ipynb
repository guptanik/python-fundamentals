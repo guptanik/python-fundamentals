{
 "cells": [
  {
   "cell_type": "markdown",
   "metadata": {},
   "source": [
    "# Python Fundamentals - Part IV"
   ]
  },
  {
   "cell_type": "markdown",
   "metadata": {},
   "source": [
    "![python_logo](https://learn-ml-and-ai-blog-resources.s3.us-east-2.amazonaws.com/PythonFundamentals/python_logo.png)"
   ]
  },
  {
   "cell_type": "markdown",
   "metadata": {},
   "source": [
    "In this post we will be learning about ***`Comprehensions`***, ***`Lambda functions`*** and ***`Map, Reduce and Filter`***  in python.\n",
    "\n",
    "This is the fourth and last post in the series of Python Fundamentals. These posts are a result of my own journey of learning python. In this series i have tried to include a lot of examples trying out different experiments of the new concepts which will be introduced. Experimenting, i guess is the best way to learn anything new.\n",
    "\n",
    "In the third part, we learnt about ***`Comparison and Logical operators`***, ***`Branching and Loops`*** and ***`Functions`*** in Python. If you are not familiar with these or need a little refresher, it is recommended that you read the [Part 3](http://learningmlandai.com/python-fundamentals/python-fundamentals-part-3/) first before proceeding ahead with this post.\n",
    "\n",
    "I would highly encourage you to try out the example code snippets from this post as you go along. It will help you gain the maximum out of this post.\n",
    "\n",
    "Also I will be using Jupyter Notebook in this post exclusively to try out different things. If you are not familiar with Jupyter Notebooks and want to try it out, you can read my post on getting started with Jupyter [here](http://learningmlandai.com/introduction-to-jupyter-notebook/).\n",
    "\n",
    "Alright enough publicity! Lets dive straight into the exciting stuff."
   ]
  },
  {
   "cell_type": "markdown",
   "metadata": {},
   "source": [
    "## Comprehensions"
   ]
  },
  {
   "cell_type": "markdown",
   "metadata": {},
   "source": [
    "Python ***`comprehensions`*** are syntactic constructs that enable sequences to be built from other sequences in a clear and concise manner. ***`Comprehensions`*** are a tool for transforming one sequence into another sequence. During this transformation, elements can be conditionally included in the new sequence and each element can be transformed as needed.\n",
    "\n",
    "It is important to note that ***`comprehensions`*** do not provide any new functionality. All the things for which we use ***`comprehensions`*** can be as easily achieved using ***`for`*** loops. So why do we use ***`comprehensions`*** at all?\n",
    "\n",
    "As we will see from the examples later on, using ***`comprehensions`*** provides following advantages:\n",
    "\n",
    "-  Using ***comprehensions*** makes our code much more elegant and easy to use.\n",
    "-  Using ***comprehensions*** makes our code much less verbose.\n",
    "-  Using ***comprehensions*** allows Python to implement it far more efficiently internally as compared to using traditional for loops.\n",
    "\n",
    "Alright, lets take a look at some examples to understand more about using ***comprehensions***.\n",
    "\n",
    "Suppose we have a list containing some numbers as below-"
   ]
  },
  {
   "cell_type": "code",
   "execution_count": 1,
   "metadata": {},
   "outputs": [],
   "source": [
    "numbers = [1, 4, 2, 5, 10]"
   ]
  },
  {
   "cell_type": "markdown",
   "metadata": {},
   "source": [
    "Suppose now we want to create a new list from this list where each element of the new list is the square of the corresponding element in this list.\n",
    "\n",
    "We can do this easily using a for loop as shown below-"
   ]
  },
  {
   "cell_type": "code",
   "execution_count": 2,
   "metadata": {},
   "outputs": [],
   "source": [
    "# USing for loop\n",
    "squared_numbers = []\n",
    "\n",
    "for num in numbers:\n",
    "    squared_numbers.append(num ** 2)\n",
    "    \n",
    "squared_numbers"
   ]
  },
  {
   "cell_type": "markdown",
   "metadata": {},
   "source": [
    "Here we first create a new empty list `squared_numbers`. Then we use a `for` loop to iterate over our existing list `numbers` and inside the loop, for each element we append its square value to the new `squared_numbers` list.\n",
    "\n",
    "We can achieve this in a much more concise way using `comprehensions` as below-"
   ]
  },
  {
   "cell_type": "code",
   "execution_count": 3,
   "metadata": {},
   "outputs": [],
   "source": [
    "squared_numbers_using_comprehension = [num ** 2 for num in numbers]\n",
    "squared_numbers_using_comprehension"
   ]
  },
  {
   "cell_type": "markdown",
   "metadata": {},
   "source": [
    "As we can see, we can get the same output with just a single line of code without explicitly using `for` loops. This is the power of `comprehensions`.\n",
    "\n",
    "Lets take a look at one more example and then we will try to figure out how to use `comprehensions`.\n",
    "\n",
    "Suppose we have a list of strings with us."
   ]
  },
  {
   "cell_type": "code",
   "execution_count": 4,
   "metadata": {},
   "outputs": [],
   "source": [
    "paragraph = ['This is the first sentence.', 'This is sentence number 2,', 'This is the third and last sentence.']\n",
    "paragraph"
   ]
  },
  {
   "cell_type": "markdown",
   "metadata": {},
   "source": [
    "We can see that in this list `paragraph` above, each element is a sentence. And each sentence can be considered to be a collection of words. Now suppose we want to create a new list containing an exhaustive list of all the words appearing in all the sentences in our `paragraph` list.\n",
    "\n",
    "We can do this easily using for loops as below-"
   ]
  },
  {
   "cell_type": "code",
   "execution_count": 5,
   "metadata": {},
   "outputs": [],
   "source": [
    "words = []\n",
    "\n",
    "for sentence in paragraph:\n",
    "    for word in sentence.split():\n",
    "        words.append(word)\n",
    "        \n",
    "words"
   ]
  },
  {
   "cell_type": "markdown",
   "metadata": {},
   "source": [
    "Here we use a `nested for` loop to convert paragraph into a list of words. The first for loop iterates over the paragraph to get each sentence in the paragraph. Now for each sentence, we use an inner for loop to split the sentence into words using `split()` function and iterate over each word. Then inside the inner for loop body we just append the word to our `words` list.\n",
    "\n",
    "Now lets see how easily we can do this using comprehensions in a much mor elegant way."
   ]
  },
  {
   "cell_type": "code",
   "execution_count": 6,
   "metadata": {},
   "outputs": [],
   "source": [
    "words_using_comprehensions = [word for sentence in paragraph for word in sentence.split()]\n",
    "words_using_comprehensions"
   ]
  },
  {
   "cell_type": "markdown",
   "metadata": {},
   "source": [
    "Again, using comprehensions we are able to achieve the same things in just a single line of code. Now that we are aware of the advatages which comprehensions provide, lets take a deeper look into how the create comprehensions.\n",
    "\n",
    "For this, lets again look at the first example of list of squared numbers we took. Lets color code different parts of the used comprehension.\n",
    "\n",
    "![comprehension_example1](https://learn-ml-and-ai-blog-resources.s3.us-east-2.amazonaws.com/PythonFundamentals/comprehensions_example1.png)\n",
    "\n",
    "This comprehension consists of 3 main parts:\n",
    "1. New list variable `squared_numbers` color code in green.\n",
    "2. Expression for the new elements of the new list `num ** 2` color coded in blue.\n",
    "3. For syntax to iterate over the original list `for num in numbers` color code in orange.\n",
    "\n",
    "if we compare this with the for loop code, using the same color coding we can easily see which part of the comprehension corresponds to which part of the for loop.\n",
    "\n",
    "![comprehension_for_example1](https://learn-ml-and-ai-blog-resources.s3.us-east-2.amazonaws.com/PythonFundamentals/comprehensions_for_example1.png)\n",
    "\n",
    "So comparing these two images, we can easily construct a comprehension for the given for loop."
   ]
  },
  {
   "cell_type": "markdown",
   "metadata": {},
   "source": [
    "Lets similarly compare the comprehension we used to replace the  nested for loops. Lets first look at the color coded for loop code.\n",
    "\n",
    "![comprehensions_for_example2](https://learn-ml-and-ai-blog-resources.s3.us-east-2.amazonaws.com/PythonFundamentals/comprehensions_for_example_2.png)\n",
    "\n",
    "Now lets compare it to the color coded comprehensions code and see if it makes sense.\n",
    "\n",
    "![comprehensions_example_2](https://learn-ml-and-ai-blog-resources.s3.us-east-2.amazonaws.com/PythonFundamentals/comprehensions_example2.png)"
   ]
  },
  {
   "cell_type": "markdown",
   "metadata": {},
   "source": [
    "Now lets work on an other example where we are given a matrix (2d list) and we want to create a list by flattening the matrix. Again we will first do this using for loope and then using comprehensions."
   ]
  },
  {
   "cell_type": "code",
   "execution_count": 7,
   "metadata": {},
   "outputs": [],
   "source": [
    "matrix = [[1, 2, 3], [4, 5, 6], [7, 8, 9]]\n",
    "print(matrix)"
   ]
  },
  {
   "cell_type": "code",
   "execution_count": 8,
   "metadata": {},
   "outputs": [],
   "source": [
    "# Flattening a matrix using for loops\n",
    "flattened_list = []\n",
    "\n",
    "for row in matrix:\n",
    "    for element in row:\n",
    "        flattened_list.append(element)\n",
    "        \n",
    "flattened_list"
   ]
  },
  {
   "cell_type": "markdown",
   "metadata": {},
   "source": [
    "Using the color coded image for the nested for loops conversion to comprehensions as reference, try to convert this nested for loop to convert a matrix to flattened list by yourself and then compare with the solution below."
   ]
  },
  {
   "cell_type": "code",
   "execution_count": 9,
   "metadata": {},
   "outputs": [],
   "source": [
    "# Flattening a matrix using comprehensions\n",
    "flattened_list = [element for row in matrix for element in row]\n",
    "flattened_list"
   ]
  },
  {
   "cell_type": "markdown",
   "metadata": {},
   "source": [
    "### Applying comprehensions with a condition"
   ]
  },
  {
   "cell_type": "markdown",
   "metadata": {},
   "source": [
    "We can also apply conditions in the comprehensions to selectively add elements to the new sequence or to selectively change elements before adding to the new sequence.\n",
    "\n",
    "Suppose in the above example of converting a paragraph to a list of words, say we want only those words which are starting with a vowel.\n",
    "\n",
    "We can do this using the for loop as below-"
   ]
  },
  {
   "cell_type": "code",
   "execution_count": 10,
   "metadata": {},
   "outputs": [],
   "source": [
    "vowels = ['a', 'e', 'i', 'o', 'u']\n",
    "vowels"
   ]
  },
  {
   "cell_type": "code",
   "execution_count": 11,
   "metadata": {},
   "outputs": [
    {
     "data": {
      "text/plain": [
       "['This is the first sentence.',\n",
       " 'This is sentence number 2,',\n",
       " 'This is the third and last sentence.']"
      ]
     },
     "execution_count": 11,
     "metadata": {},
     "output_type": "execute_result"
    }
   ],
   "source": [
    "paragraph"
   ]
  },
  {
   "cell_type": "code",
   "execution_count": 12,
   "metadata": {},
   "outputs": [
    {
     "data": {
      "text/plain": [
       "['is', 'is', 'is', 'and']"
      ]
     },
     "execution_count": 12,
     "metadata": {},
     "output_type": "execute_result"
    }
   ],
   "source": [
    "words = []\n",
    "\n",
    "for sentence in paragraph:\n",
    "    for word in sentence.split():\n",
    "        if word[0].lower() in vowels:\n",
    "            words.append(word)\n",
    "            \n",
    "words"
   ]
  },
  {
   "cell_type": "markdown",
   "metadata": {},
   "source": [
    "In this example, we just added an if condition to the inner for loop to check if the first character of the word is a vowel or not.\n",
    "\n",
    "We can achieve the same thing using comprehensions as below-"
   ]
  },
  {
   "cell_type": "code",
   "execution_count": 13,
   "metadata": {},
   "outputs": [
    {
     "data": {
      "text/plain": [
       "['is', 'is', 'is', 'and']"
      ]
     },
     "execution_count": 13,
     "metadata": {},
     "output_type": "execute_result"
    }
   ],
   "source": [
    "words = [word for sentence in paragraph for word in sentence.split() if word[0].lower() in vowels]\n",
    "words"
   ]
  },
  {
   "cell_type": "markdown",
   "metadata": {},
   "source": [
    "As last example, lets consider our earlier example of flattening a matrix. Now suppose in the flattened list we also want to include the information whether the number is odd or even.\n",
    "\n",
    "We can do this using for loops as below-"
   ]
  },
  {
   "cell_type": "code",
   "execution_count": 14,
   "metadata": {},
   "outputs": [
    {
     "data": {
      "text/plain": [
       "[[1, 2, 3], [4, 5, 6], [7, 8, 9]]"
      ]
     },
     "execution_count": 14,
     "metadata": {},
     "output_type": "execute_result"
    }
   ],
   "source": [
    "matrix"
   ]
  },
  {
   "cell_type": "code",
   "execution_count": 15,
   "metadata": {},
   "outputs": [
    {
     "data": {
      "text/plain": [
       "['1- odd',\n",
       " '2- even',\n",
       " '3- odd',\n",
       " '4- even',\n",
       " '5- odd',\n",
       " '6- even',\n",
       " '7- odd',\n",
       " '8- even',\n",
       " '9- odd']"
      ]
     },
     "execution_count": 15,
     "metadata": {},
     "output_type": "execute_result"
    }
   ],
   "source": [
    "flattened_list = []\n",
    "\n",
    "for row in matrix:\n",
    "    for element in row:\n",
    "        if element%2 == 0:\n",
    "            flattened_list.append(str(element) + '- even')\n",
    "        else:\n",
    "            flattened_list.append(str(element) + '- odd')\n",
    "\n",
    "flattened_list"
   ]
  },
  {
   "cell_type": "markdown",
   "metadata": {},
   "source": [
    "We can do the same thing using comprehensions as below-"
   ]
  },
  {
   "cell_type": "code",
   "execution_count": 16,
   "metadata": {},
   "outputs": [
    {
     "data": {
      "text/plain": [
       "['1- odd',\n",
       " '2- even',\n",
       " '3- odd',\n",
       " '4- even',\n",
       " '5- odd',\n",
       " '6- even',\n",
       " '7- odd',\n",
       " '8- even',\n",
       " '9- odd']"
      ]
     },
     "execution_count": 16,
     "metadata": {},
     "output_type": "execute_result"
    }
   ],
   "source": [
    "flattened_list = [str(element) + '- even' if element%2 == 0 else str(element) + '- odd' for row in matrix for element in row]\n",
    "flattened_list"
   ]
  },
  {
   "cell_type": "markdown",
   "metadata": {},
   "source": [
    "Similarly we can use comprehensions to create dictionaries as well.\n",
    "\n",
    "Suppose we want to create a dictionary in which we have key as integers ranging from 1 to 10 and the value is corresponding squared value. We can do this using for loops as below-"
   ]
  },
  {
   "cell_type": "code",
   "execution_count": 17,
   "metadata": {},
   "outputs": [
    {
     "data": {
      "text/plain": [
       "{1: 1, 2: 4, 3: 9, 4: 16, 5: 25, 6: 36, 7: 49, 8: 64, 9: 81, 10: 100}"
      ]
     },
     "execution_count": 17,
     "metadata": {},
     "output_type": "execute_result"
    }
   ],
   "source": [
    "dictionary = {}\n",
    "\n",
    "for num in range(1, 11):\n",
    "    dictionary[num] = num ** 2\n",
    "    \n",
    "dictionary"
   ]
  },
  {
   "cell_type": "markdown",
   "metadata": {},
   "source": [
    "We can do the same thing using comprehensions as below-"
   ]
  },
  {
   "cell_type": "code",
   "execution_count": 18,
   "metadata": {},
   "outputs": [
    {
     "data": {
      "text/plain": [
       "{1: 1, 2: 4, 3: 9, 4: 16, 5: 25, 6: 36, 7: 49, 8: 64, 9: 81, 10: 100}"
      ]
     },
     "execution_count": 18,
     "metadata": {},
     "output_type": "execute_result"
    }
   ],
   "source": [
    "dictionary = {num: num ** 2 for num in range(1, 11)}\n",
    "dictionary"
   ]
  },
  {
   "cell_type": "markdown",
   "metadata": {},
   "source": [
    "By now i hope, you can transform a `for loop` into a `comprehension` easily. Lets just note down the steps involved:\n",
    "\n",
    "![comprehension_steps](https://learn-ml-and-ai-blog-resources.s3.us-east-2.amazonaws.com/PythonFundamentals/comprehensions_steps.png)\n",
    "\n",
    "This image we have taken from [***`this`***](https://treyhunner.com/2015/12/python-list-comprehensions-now-in-color/) site which is an excellent tutorial to learn more about comprehensions in details. If you are learning more about comprehensions, i would strongly urge you to reag the linked post. They have explained the conversion from for loops to comprehensions in a very good color coded manner with animations."
   ]
  },
  {
   "cell_type": "markdown",
   "metadata": {},
   "source": [
    "## Lambda functions"
   ]
  },
  {
   "cell_type": "markdown",
   "metadata": {},
   "source": [
    "***`Lambda`*** expressions are another way defining functions but with a difference. A `lambda` or `anonymous` function is defined without a name. While normal functions are defined using the `def` keyword in Python, lambda functions are defined using the `lambda` keyword.\n",
    "\n",
    "Syntax of a lambda function is as below-\n",
    "\n",
    "`lambda arguments: expression`\n",
    "\n",
    "Lambda functions can have any number of arguments but only one expression. The expression is evaluated and returned. Lambda functions can be used wherever function objects are required."
   ]
  },
  {
   "cell_type": "markdown",
   "metadata": {},
   "source": [
    "We can express a function which accepts two inputs and returns their sum as a lambda function as below-"
   ]
  },
  {
   "cell_type": "code",
   "execution_count": 19,
   "metadata": {},
   "outputs": [],
   "source": [
    "add = lambda x, y: x + y"
   ]
  },
  {
   "cell_type": "markdown",
   "metadata": {},
   "source": [
    "In the above program, `lambda x, y: x + y` is the lambda function. Here `x` and `y` are the arguments and `x + y` is the expression that gets evaluated and returned.\n",
    "\n",
    "This function has no name. It returns a function object which is assigned to the identifier `add`. We can now call it as a normal function.\n",
    "\n",
    "This definition of `add` is nearly as same as-\n",
    "\n",
    "def add(x, y):\n",
    ">return x + y"
   ]
  },
  {
   "cell_type": "markdown",
   "metadata": {},
   "source": [
    "Now we can call this lambda function just like any other function using the `add` variable anme as below-"
   ]
  },
  {
   "cell_type": "code",
   "execution_count": 20,
   "metadata": {},
   "outputs": [
    {
     "name": "stdout",
     "output_type": "stream",
     "text": [
      "9\n",
      "Hello World\n"
     ]
    }
   ],
   "source": [
    "print(add(4, 5))\n",
    "print(add('Hello', ' World'))"
   ]
  },
  {
   "cell_type": "markdown",
   "metadata": {},
   "source": [
    "Lambda functions can be considered as a shortcut for creating a simple function on the fly. We use lambda functions when we require a nameless function for a short period of time.\n",
    "\n",
    "In Python, we generally use it as an argument to a higher-order function (a function that takes in other functions as arguments). Lambda functions are used along with built-in functions like filter(), map() etc. which we are going to discuss next."
   ]
  },
  {
   "cell_type": "markdown",
   "metadata": {},
   "source": [
    "## Map, Reduce and Filter"
   ]
  },
  {
   "cell_type": "markdown",
   "metadata": {},
   "source": [
    "### Map"
   ]
  },
  {
   "cell_type": "markdown",
   "metadata": {},
   "source": [
    "***Map*** is a built-in function in ptyhon which can be used on a sequence to create a new sequence by applying a specific function/operation on each element of the original list.\n",
    "\n",
    "`map()` is a function with two arguments:\n",
    "\n",
    "`map(func, seq)`\n",
    "\n",
    "The first argument `func` is the name of a function and the second a sequence (e.g. a list) `seq`. map() applies the function func to all the elements of the sequence seq. It returns a new sequence with the elements changed by func.\n",
    "\n",
    "Lets take a look at an example. Suppose we have a list with temperatures in Celcius."
   ]
  },
  {
   "cell_type": "code",
   "execution_count": 21,
   "metadata": {},
   "outputs": [],
   "source": [
    "celsius = [35.5, 36.9, 38.4, 36.8]"
   ]
  },
  {
   "cell_type": "markdown",
   "metadata": {},
   "source": [
    "Suppose now we want to convert these temperatures into Fahrenheit and store those values in a new list. We can do this using the `map()` function as below."
   ]
  },
  {
   "cell_type": "code",
   "execution_count": 22,
   "metadata": {},
   "outputs": [
    {
     "data": {
      "text/plain": [
       "[95.9, 98.42, 101.12, 98.24]"
      ]
     },
     "execution_count": 22,
     "metadata": {},
     "output_type": "execute_result"
    }
   ],
   "source": [
    "# Using map() to convert celsius to fahrenheit\n",
    "fahrenheit = list(map(lambda x: (float(9)/5)*x + 32, celsius))\n",
    "fahrenheit"
   ]
  },
  {
   "cell_type": "markdown",
   "metadata": {},
   "source": [
    "We can also use `map()` to more than one sequence. The lists must be of the same length. `map()` will first apply the lambda function to the elements at index 0 in all the list, then elements at index 1 and so on. Thus all the lists need to be of the same length. Also the number of arguments in the lambda function is always equalt to the number of sequences provided.\n",
    "\n",
    "Lets take a look at another example of `map()` to add 3 lists."
   ]
  },
  {
   "cell_type": "code",
   "execution_count": 23,
   "metadata": {},
   "outputs": [
    {
     "data": {
      "text/plain": [
       "[113, 224, 335, 446, 557]"
      ]
     },
     "execution_count": 23,
     "metadata": {},
     "output_type": "execute_result"
    }
   ],
   "source": [
    "list_1 = [1, 2, 3, 4, 5]\n",
    "list_2 = [11, 21, 31, 41, 51]\n",
    "list_3 = [101, 201, 301, 401, 501]\n",
    "\n",
    "list_sum = list(map(lambda x, y, z: x + y + z, list_1, list_2, list_3))\n",
    "list_sum"
   ]
  },
  {
   "cell_type": "markdown",
   "metadata": {},
   "source": [
    "Lets consider one more example. Suppose we have lists for first names and last names. And we want to combine these to create a list with full names. Also we will make sure that each name has its first charcter capital. So lets do it."
   ]
  },
  {
   "cell_type": "code",
   "execution_count": 24,
   "metadata": {},
   "outputs": [
    {
     "data": {
      "text/plain": [
       "['albert', 'Thomas', 'Isaac', 'Nikola']"
      ]
     },
     "execution_count": 24,
     "metadata": {},
     "output_type": "execute_result"
    }
   ],
   "source": [
    "first_names = ['albert', 'Thomas', 'Isaac', 'Nikola']\n",
    "first_names"
   ]
  },
  {
   "cell_type": "code",
   "execution_count": 25,
   "metadata": {},
   "outputs": [
    {
     "data": {
      "text/plain": [
       "['einstein', 'edison', 'Newton', 'tesla']"
      ]
     },
     "execution_count": 25,
     "metadata": {},
     "output_type": "execute_result"
    }
   ],
   "source": [
    "last_names = ['einstein', 'edison', 'Newton', 'tesla']\n",
    "last_names"
   ]
  },
  {
   "cell_type": "code",
   "execution_count": 26,
   "metadata": {},
   "outputs": [],
   "source": [
    "lambda_func = lambda first, last: first[0].upper() + first[1:] + ' ' + last[0].upper() + last[1:]"
   ]
  },
  {
   "cell_type": "code",
   "execution_count": 27,
   "metadata": {},
   "outputs": [
    {
     "data": {
      "text/plain": [
       "['Albert Einstein', 'Thomas Edison', 'Isaac Newton', 'Nikola Tesla']"
      ]
     },
     "execution_count": 27,
     "metadata": {},
     "output_type": "execute_result"
    }
   ],
   "source": [
    "full_names = list(map(lambda_func, first_names, last_names))\n",
    "full_names"
   ]
  },
  {
   "cell_type": "markdown",
   "metadata": {},
   "source": [
    "### Filter"
   ]
  },
  {
   "cell_type": "markdown",
   "metadata": {},
   "source": [
    "***Filter*** is a built-in function is python which is used to conditionally select a few elements from a sequence.\n",
    "\n",
    "Syntax for the `filter()` function is:\n",
    "\n",
    "`filter(function, sequence)`\n",
    "\n",
    "The expression in the function must evaluate to True or False. If the function expression evaluates to True, the element of the sequence is selected else it is discarded if the function evaluates to False.\n",
    "\n",
    "Lets take an example. Suppose we have a list of numbers ranging from 1 to 10 and we want to filter out all the multiples of 3 from this list into a new list. We can do this using `filter()` function as below."
   ]
  },
  {
   "cell_type": "code",
   "execution_count": 28,
   "metadata": {},
   "outputs": [
    {
     "data": {
      "text/plain": [
       "[1, 2, 3, 4, 5, 6, 7, 8, 9, 10]"
      ]
     },
     "execution_count": 28,
     "metadata": {},
     "output_type": "execute_result"
    }
   ],
   "source": [
    "numbers = list(range(1, 11))\n",
    "numbers"
   ]
  },
  {
   "cell_type": "code",
   "execution_count": 29,
   "metadata": {},
   "outputs": [
    {
     "data": {
      "text/plain": [
       "[3, 6, 9]"
      ]
     },
     "execution_count": 29,
     "metadata": {},
     "output_type": "execute_result"
    }
   ],
   "source": [
    "multiples_of_3 = list(filter(lambda x: x%3 == 0, numbers))\n",
    "multiples_of_3"
   ]
  },
  {
   "cell_type": "markdown",
   "metadata": {},
   "source": [
    "As we can see, we provided the lambda function to check if a number is divisible by 3 or not. `filter()` iterates over the sequence provided as the second argument and collects all the elements of the sequence for which the lambda function evaluates to True in a new list.\n",
    "\n",
    "As another example, suppose we want to filter out words starting with a vowel in a new list from a given list."
   ]
  },
  {
   "cell_type": "code",
   "execution_count": 30,
   "metadata": {},
   "outputs": [
    {
     "data": {
      "text/plain": [
       "['a', 'e', 'i', 'o', 'u']"
      ]
     },
     "execution_count": 30,
     "metadata": {},
     "output_type": "execute_result"
    }
   ],
   "source": [
    "vowels"
   ]
  },
  {
   "cell_type": "code",
   "execution_count": 31,
   "metadata": {},
   "outputs": [
    {
     "data": {
      "text/plain": [
       "['Hello', 'Sunny', 'Apple', 'owl', 'Banana', 'okay', 'India', 'Paris']"
      ]
     },
     "execution_count": 31,
     "metadata": {},
     "output_type": "execute_result"
    }
   ],
   "source": [
    "words_list = ['Hello', 'Sunny', 'Apple', 'owl', 'Banana', 'okay', 'India', 'Paris']\n",
    "words_list"
   ]
  },
  {
   "cell_type": "code",
   "execution_count": 32,
   "metadata": {},
   "outputs": [
    {
     "data": {
      "text/plain": [
       "['Apple', 'owl', 'okay', 'India']"
      ]
     },
     "execution_count": 32,
     "metadata": {},
     "output_type": "execute_result"
    }
   ],
   "source": [
    "words_starting_with_vowel = list(filter(lambda word: word[0].lower() in vowels, words_list))\n",
    "words_starting_with_vowel"
   ]
  },
  {
   "cell_type": "markdown",
   "metadata": {},
   "source": [
    "### Reduce"
   ]
  },
  {
   "cell_type": "markdown",
   "metadata": {},
   "source": [
    "***Reduce*** is not a built-in function in python. We need to import it to use."
   ]
  },
  {
   "cell_type": "code",
   "execution_count": 33,
   "metadata": {},
   "outputs": [],
   "source": [
    "from functools import reduce"
   ]
  },
  {
   "cell_type": "markdown",
   "metadata": {},
   "source": [
    "`reduce()` function allows us to do any aggregate operation on a sequence. \n",
    "\n",
    "Syntax of `reduce()` function is as below-\n",
    "\n",
    "`reduce(func, seq)`\n",
    "\n",
    "The function `reduce()` continually applies the function `func()` to the sequence `seq`. It returns a single value.\n",
    "\n",
    "If seq = [s1, s2, s3, ... , sn], calling reduce(func, seq) works like this:\n",
    "-  At first the first two elements of seq will be applied to func, i.e. `func(s1,s2)` The list on which reduce() works looks now like this: `[func(s1, s2), s3, ... , sn]`\n",
    "-  In the next step func will be applied on the previous result and the third element of the list, i.e. `func(func(s1, s2),s3)`\n",
    "The list looks like this now: `[func(func(s1, s2),s3), ... , sn]`\n",
    "-  Continue like this until just one element is left and return this element as the result of reduce()\n",
    "\n",
    "\n",
    "We illustrate this process in the following example:\n"
   ]
  },
  {
   "cell_type": "code",
   "execution_count": 34,
   "metadata": {},
   "outputs": [
    {
     "data": {
      "text/plain": [
       "113"
      ]
     },
     "execution_count": 34,
     "metadata": {},
     "output_type": "execute_result"
    }
   ],
   "source": [
    "reduce(lambda x,y: x+y, [47,11,42,13])"
   ]
  },
  {
   "cell_type": "markdown",
   "metadata": {},
   "source": [
    "![reduce_example](https://learn-ml-and-ai-blog-resources.s3.us-east-2.amazonaws.com/PythonFundamentals/reduce_example.png)\n",
    "\n",
    "We have taken this illustration and example from [***`here`***](https://www.python-course.eu/lambda.php)."
   ]
  },
  {
   "cell_type": "markdown",
   "metadata": {},
   "source": [
    "Now lets consider another example of `reduce()` to find the maximum element in a list."
   ]
  },
  {
   "cell_type": "code",
   "execution_count": 35,
   "metadata": {},
   "outputs": [
    {
     "data": {
      "text/plain": [
       "[14, -5, 48, 12, 0, 95, 24]"
      ]
     },
     "execution_count": 35,
     "metadata": {},
     "output_type": "execute_result"
    }
   ],
   "source": [
    "my_list = [14, -5, 48, 12, 0, 95, 24]\n",
    "my_list"
   ]
  },
  {
   "cell_type": "code",
   "execution_count": 36,
   "metadata": {},
   "outputs": [
    {
     "data": {
      "text/plain": [
       "95"
      ]
     },
     "execution_count": 36,
     "metadata": {},
     "output_type": "execute_result"
    }
   ],
   "source": [
    "max = reduce(lambda x, y: x if x > y else y, my_list)\n",
    "max"
   ]
  },
  {
   "cell_type": "markdown",
   "metadata": {},
   "source": [
    "<hr>\n",
    "\n",
    "<br>*So this brings us to the end of the Part 4 as well as this series of posts on Python Fundamentals. Hope you found this useful. We have introduced all the major components of Python langauge you might use in data science and machine learning. Python is a vast language, it is impossible to include every detail in any post. The aim of this series was to provide you a strong foundation on which you can add on new things as you need.*\n",
    "\n",
    "You can view all the posts in this series [here](http://learningmlandai.com/python-fundamentals/).\n",
    "\n",
    "You can checkout the source notebook for this post [here](https://github.com/guptanik/python-fundamentals/blob/master/PythonFundamentals-Part4.ipynb) on Github."
   ]
  },
  {
   "cell_type": "markdown",
   "metadata": {},
   "source": [
    "***Additional Resources***\n",
    "\n",
    "-  __[Source Notebook for this post](https://github.com/guptanik/python-fundamentals/blob/master/PythonFundamentals-Part4.ipynb)__\n",
    "-  __[Resource for comprehensions](https://treyhunner.com/2015/12/python-list-comprehensions-now-in-color/)__\n",
    "-  __[Resource for Map, Filter and Reduce](https://www.python-course.eu/lambda.php)__\n",
    "-  __[Python Official Site](https://www.python.org/)__\n",
    "-  __[Applications of Python](https://www.python.org/about/apps/)__\n",
    "-  __[Official documentation](https://docs.python.org/3/)__"
   ]
  }
 ],
 "metadata": {
  "kernelspec": {
   "display_name": "Python 3",
   "language": "python",
   "name": "python3"
  },
  "language_info": {
   "codemirror_mode": {
    "name": "ipython",
    "version": 3
   },
   "file_extension": ".py",
   "mimetype": "text/x-python",
   "name": "python",
   "nbconvert_exporter": "python",
   "pygments_lexer": "ipython3",
   "version": "3.7.6"
  }
 },
 "nbformat": 4,
 "nbformat_minor": 4
}
