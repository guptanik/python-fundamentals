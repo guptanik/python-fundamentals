{
 "cells": [
  {
   "cell_type": "markdown",
   "metadata": {},
   "source": [
    "# Python Fundamentals - Part III"
   ]
  },
  {
   "cell_type": "markdown",
   "metadata": {},
   "source": [
    "![python_logo](https://learn-ml-and-ai-blog-resources.s3.us-east-2.amazonaws.com/PythonFundamentals/python_logo.png)"
   ]
  },
  {
   "cell_type": "markdown",
   "metadata": {},
   "source": [
    "In this post we will be learning about ***`Comparison and Logical operators`***, ***`Branching and Loops`*** and ***`Functions`***  in python.\n",
    "\n",
    "This is the third post in the series of Python Fundamentals. These posts are a result of my own journey of learning python. In this series i have tried to include a lot of examples trying out different experiments of the new concepts which will be introduced. Experimenting, i guess is the best way to learn anything new.\n",
    "\n",
    "In the second part, we learnt about ***collections*** in Python. If you are not familiar with these or need a little refresher, it is recommended that you read the [Part 2](http://learningmlandai.com/python-fundamentals-part-2/) first before proceeding ahead with this post.\n",
    "\n",
    "I would highly encourage you to try out the example code snippets from this post as you go along. It will help you gain the maximum out of this post.\n",
    "\n",
    "Also I will be using Jupyter Notebook in this post exclusively to try out different things. If you are not familiar with Jupyter Notebooks and want to try it out, you can read my post on getting started with Jupyter [here](http://learningmlandai.com/introduction-to-jupyter-notebook/).\n",
    "\n",
    "Alright enough publicity! Lets dive straight into the exciting stuff."
   ]
  },
  {
   "cell_type": "markdown",
   "metadata": {},
   "source": [
    "## Comparison Operators"
   ]
  },
  {
   "cell_type": "markdown",
   "metadata": {},
   "source": [
    "We have many operators available in Python to compare two values. It returns `True` if the condition is met, `False` otherwise. Different comparison operators available in python are:\n",
    "\n",
    "![comparison_operators](https://learn-ml-and-ai-blog-resources.s3.us-east-2.amazonaws.com/PythonFundamentals/comparison_operators.png)\n",
    "\n",
    "\n",
    "Examples of comparison operators"
   ]
  },
  {
   "cell_type": "code",
   "execution_count": 1,
   "metadata": {},
   "outputs": [
    {
     "data": {
      "text/plain": [
       "True"
      ]
     },
     "execution_count": 1,
     "metadata": {},
     "output_type": "execute_result"
    }
   ],
   "source": [
    "15 > 7"
   ]
  },
  {
   "cell_type": "code",
   "execution_count": 2,
   "metadata": {},
   "outputs": [
    {
     "data": {
      "text/plain": [
       "False"
      ]
     },
     "execution_count": 2,
     "metadata": {},
     "output_type": "execute_result"
    }
   ],
   "source": [
    "4 > 10"
   ]
  },
  {
   "cell_type": "code",
   "execution_count": 3,
   "metadata": {},
   "outputs": [
    {
     "data": {
      "text/plain": [
       "True"
      ]
     },
     "execution_count": 3,
     "metadata": {},
     "output_type": "execute_result"
    }
   ],
   "source": [
    "8 < 10"
   ]
  },
  {
   "cell_type": "code",
   "execution_count": 4,
   "metadata": {},
   "outputs": [
    {
     "data": {
      "text/plain": [
       "False"
      ]
     },
     "execution_count": 4,
     "metadata": {},
     "output_type": "execute_result"
    }
   ],
   "source": [
    "20 < -10"
   ]
  },
  {
   "cell_type": "code",
   "execution_count": 5,
   "metadata": {},
   "outputs": [
    {
     "data": {
      "text/plain": [
       "True"
      ]
     },
     "execution_count": 5,
     "metadata": {},
     "output_type": "execute_result"
    }
   ],
   "source": [
    "-5 == -5"
   ]
  },
  {
   "cell_type": "code",
   "execution_count": 6,
   "metadata": {},
   "outputs": [
    {
     "data": {
      "text/plain": [
       "False"
      ]
     },
     "execution_count": 6,
     "metadata": {},
     "output_type": "execute_result"
    }
   ],
   "source": [
    "-10 == 5"
   ]
  },
  {
   "cell_type": "code",
   "execution_count": 7,
   "metadata": {},
   "outputs": [
    {
     "data": {
      "text/plain": [
       "True"
      ]
     },
     "execution_count": 7,
     "metadata": {},
     "output_type": "execute_result"
    }
   ],
   "source": [
    "4 != -10"
   ]
  },
  {
   "cell_type": "code",
   "execution_count": 8,
   "metadata": {},
   "outputs": [
    {
     "data": {
      "text/plain": [
       "False"
      ]
     },
     "execution_count": 8,
     "metadata": {},
     "output_type": "execute_result"
    }
   ],
   "source": [
    "100 != 100"
   ]
  },
  {
   "cell_type": "code",
   "execution_count": 9,
   "metadata": {},
   "outputs": [
    {
     "data": {
      "text/plain": [
       "True"
      ]
     },
     "execution_count": 9,
     "metadata": {},
     "output_type": "execute_result"
    }
   ],
   "source": [
    "10 >= 0"
   ]
  },
  {
   "cell_type": "code",
   "execution_count": 10,
   "metadata": {},
   "outputs": [
    {
     "data": {
      "text/plain": [
       "True"
      ]
     },
     "execution_count": 10,
     "metadata": {},
     "output_type": "execute_result"
    }
   ],
   "source": [
    "10 >= 10"
   ]
  },
  {
   "cell_type": "code",
   "execution_count": 11,
   "metadata": {},
   "outputs": [
    {
     "data": {
      "text/plain": [
       "True"
      ]
     },
     "execution_count": 11,
     "metadata": {},
     "output_type": "execute_result"
    }
   ],
   "source": [
    "10 >= 9"
   ]
  },
  {
   "cell_type": "code",
   "execution_count": 12,
   "metadata": {},
   "outputs": [
    {
     "data": {
      "text/plain": [
       "False"
      ]
     },
     "execution_count": 12,
     "metadata": {},
     "output_type": "execute_result"
    }
   ],
   "source": [
    "10 >= 21"
   ]
  },
  {
   "cell_type": "code",
   "execution_count": 13,
   "metadata": {},
   "outputs": [
    {
     "data": {
      "text/plain": [
       "True"
      ]
     },
     "execution_count": 13,
     "metadata": {},
     "output_type": "execute_result"
    }
   ],
   "source": [
    "15 <= 40"
   ]
  },
  {
   "cell_type": "code",
   "execution_count": 14,
   "metadata": {},
   "outputs": [
    {
     "data": {
      "text/plain": [
       "True"
      ]
     },
     "execution_count": 14,
     "metadata": {},
     "output_type": "execute_result"
    }
   ],
   "source": [
    "15 <= 15 "
   ]
  },
  {
   "cell_type": "code",
   "execution_count": 15,
   "metadata": {},
   "outputs": [
    {
     "data": {
      "text/plain": [
       "False"
      ]
     },
     "execution_count": 15,
     "metadata": {},
     "output_type": "execute_result"
    }
   ],
   "source": [
    "15 <= 3"
   ]
  },
  {
   "cell_type": "markdown",
   "metadata": {},
   "source": [
    "Similarly comparison operators can be used on variables as well."
   ]
  },
  {
   "cell_type": "code",
   "execution_count": 16,
   "metadata": {},
   "outputs": [],
   "source": [
    "x = 10\n",
    "y = 15"
   ]
  },
  {
   "cell_type": "code",
   "execution_count": 17,
   "metadata": {},
   "outputs": [
    {
     "name": "stdout",
     "output_type": "stream",
     "text": [
      "x is 10\n",
      "y is 15\n",
      "x > y is 10\n",
      "x < y is 10\n",
      "x == y is 10\n",
      "x != y is 10\n",
      "x >= y is 10\n",
      "x <= y is 10\n"
     ]
    }
   ],
   "source": [
    "print('x is {0}'.format(x))\n",
    "print('y is {0}'.format(y))\n",
    "print('x > y is {0}'.format(x, y, x > y))\n",
    "print('x < y is {0}'.format(x, y, x < y))\n",
    "print('x == y is {0}'.format(x, y, x == y))\n",
    "print('x != y is {0}'.format(x, y, x != y))\n",
    "print('x >= y is {0}'.format(x, y, x >= y))\n",
    "print('x <= y is {0}'.format(x, y, x <= y))"
   ]
  },
  {
   "cell_type": "markdown",
   "metadata": {},
   "source": [
    "## Logical Operators"
   ]
  },
  {
   "cell_type": "markdown",
   "metadata": {},
   "source": [
    "Logical operators available in python are - `and`, `or` and `not`.\n",
    "\n",
    "![logical_operators](https://learn-ml-and-ai-blog-resources.s3.us-east-2.amazonaws.com/PythonFundamentals/logical_operators.png)\n",
    "\n",
    "Examples of logical operators"
   ]
  },
  {
   "cell_type": "code",
   "execution_count": 18,
   "metadata": {},
   "outputs": [
    {
     "data": {
      "text/plain": [
       "True"
      ]
     },
     "execution_count": 18,
     "metadata": {},
     "output_type": "execute_result"
    }
   ],
   "source": [
    "True or False"
   ]
  },
  {
   "cell_type": "code",
   "execution_count": 19,
   "metadata": {},
   "outputs": [
    {
     "data": {
      "text/plain": [
       "True"
      ]
     },
     "execution_count": 19,
     "metadata": {},
     "output_type": "execute_result"
    }
   ],
   "source": [
    "False or True"
   ]
  },
  {
   "cell_type": "code",
   "execution_count": 20,
   "metadata": {},
   "outputs": [
    {
     "data": {
      "text/plain": [
       "True"
      ]
     },
     "execution_count": 20,
     "metadata": {},
     "output_type": "execute_result"
    }
   ],
   "source": [
    "True or True"
   ]
  },
  {
   "cell_type": "code",
   "execution_count": 21,
   "metadata": {},
   "outputs": [
    {
     "data": {
      "text/plain": [
       "False"
      ]
     },
     "execution_count": 21,
     "metadata": {},
     "output_type": "execute_result"
    }
   ],
   "source": [
    "False or False"
   ]
  },
  {
   "cell_type": "code",
   "execution_count": 22,
   "metadata": {},
   "outputs": [
    {
     "data": {
      "text/plain": [
       "True"
      ]
     },
     "execution_count": 22,
     "metadata": {},
     "output_type": "execute_result"
    }
   ],
   "source": [
    "True and True"
   ]
  },
  {
   "cell_type": "code",
   "execution_count": 23,
   "metadata": {},
   "outputs": [
    {
     "data": {
      "text/plain": [
       "False"
      ]
     },
     "execution_count": 23,
     "metadata": {},
     "output_type": "execute_result"
    }
   ],
   "source": [
    "True and False"
   ]
  },
  {
   "cell_type": "code",
   "execution_count": 24,
   "metadata": {},
   "outputs": [
    {
     "data": {
      "text/plain": [
       "False"
      ]
     },
     "execution_count": 24,
     "metadata": {},
     "output_type": "execute_result"
    }
   ],
   "source": [
    "False and True"
   ]
  },
  {
   "cell_type": "code",
   "execution_count": 25,
   "metadata": {},
   "outputs": [
    {
     "data": {
      "text/plain": [
       "False"
      ]
     },
     "execution_count": 25,
     "metadata": {},
     "output_type": "execute_result"
    }
   ],
   "source": [
    "False and False"
   ]
  },
  {
   "cell_type": "code",
   "execution_count": 26,
   "metadata": {},
   "outputs": [
    {
     "data": {
      "text/plain": [
       "False"
      ]
     },
     "execution_count": 26,
     "metadata": {},
     "output_type": "execute_result"
    }
   ],
   "source": [
    "not True"
   ]
  },
  {
   "cell_type": "code",
   "execution_count": 27,
   "metadata": {},
   "outputs": [
    {
     "data": {
      "text/plain": [
       "True"
      ]
     },
     "execution_count": 27,
     "metadata": {},
     "output_type": "execute_result"
    }
   ],
   "source": [
    "not False"
   ]
  },
  {
   "cell_type": "markdown",
   "metadata": {},
   "source": [
    "Similarly logical operators can be used on variables as well."
   ]
  },
  {
   "cell_type": "code",
   "execution_count": 28,
   "metadata": {},
   "outputs": [],
   "source": [
    "a = True\n",
    "b = False"
   ]
  },
  {
   "cell_type": "code",
   "execution_count": 29,
   "metadata": {},
   "outputs": [
    {
     "name": "stdout",
     "output_type": "stream",
     "text": [
      "a is True\n",
      "b is False\n",
      "a and b is False\n",
      "a or b is True\n",
      "not a is False\n",
      "not b is True\n"
     ]
    }
   ],
   "source": [
    "print('a is {0}'.format(a))      \n",
    "print('b is {0}'.format(b))\n",
    "print('a and b is {}'.format(a and b))\n",
    "print('a or b is {}'.format(a or b))\n",
    "print('not a is {}'.format(not a))\n",
    "print('not b is {}'.format(not b))"
   ]
  },
  {
   "cell_type": "markdown",
   "metadata": {},
   "source": [
    "## Flow control in Python"
   ]
  },
  {
   "cell_type": "markdown",
   "metadata": {},
   "source": [
    "### Branching"
   ]
  },
  {
   "cell_type": "markdown",
   "metadata": {},
   "source": [
    "Their might many situations in which we want a piece of code to be executed only when some particular codition is met. In python we have `if..elif..else` statemnt for making decisions.\n",
    "\n",
    "***if statement***\n",
    "\n",
    "Syntax for a `if` statement is as follows-\n",
    "\n",
    "if condition_expression:\n",
    "<br>&emsp;statement(s)\n",
    "\n",
    "Here the program evaluates the `condition_expression` and executes the statement(s) only if the condition_Expression evaluates to True. If the condition evalueates to False, the statement(s) is not executed and skipped by the program.\n",
    "As you can see the `condition_expression` is followed by a `:` and the body of the if statement is indicated by the indentation. Body starts with an indentation and the first unindented line marks the end of the `if` block.\n",
    "\n",
    "![if_statement_flow](https://learn-ml-and-ai-blog-resources.s3.us-east-2.amazonaws.com/PythonFundamentals/if-statement-flow.png)\n",
    "\n",
    "Suppose we want to check if a number is even (which is completely divisible by 2) or odd. We can achieve this using the `if` statement as below."
   ]
  },
  {
   "cell_type": "code",
   "execution_count": 30,
   "metadata": {},
   "outputs": [
    {
     "name": "stdout",
     "output_type": "stream",
     "text": [
      "4 is an even number.\n",
      "if statement ended\n"
     ]
    }
   ],
   "source": [
    "# Check if a number if even\n",
    "number = 4\n",
    "\n",
    "if number%2 == 0:\n",
    "    print('{0} is an even number.'.format(number))\n",
    "print('if statement ended')"
   ]
  },
  {
   "cell_type": "markdown",
   "metadata": {},
   "source": [
    "As we can see that the statement in the `if` block gets executed since `4` is an even number. Lets see what happens if we change the number to `5` which is an odd number."
   ]
  },
  {
   "cell_type": "code",
   "execution_count": 31,
   "metadata": {},
   "outputs": [
    {
     "name": "stdout",
     "output_type": "stream",
     "text": [
      "if statement ended\n"
     ]
    }
   ],
   "source": [
    "# Check if 5 is an even number\n",
    "number = 5\n",
    "if number%2 == 0:\n",
    "    print('{0} is an even number.'.format(number))\n",
    "print('if statement ended')"
   ]
  },
  {
   "cell_type": "markdown",
   "metadata": {},
   "source": [
    "As we can see that in this case the `if` statement is not executed as the condition doesn't evaluate to `True`."
   ]
  },
  {
   "cell_type": "markdown",
   "metadata": {},
   "source": [
    "***if-else statment***"
   ]
  },
  {
   "cell_type": "markdown",
   "metadata": {},
   "source": [
    "Sometimes there might be situations we we want to execute one piece of code if a condition meets and if the condition doesn't meet we want to execute some other piece of code. This we can achieve using the `if-else` statement.\n",
    "\n",
    "If the `if` condition evaluates to `True`, statments in the `if` block are executed. If the `if` statement evaluates to `False`, the statements in the `else` block are executed.\n",
    "\n",
    "![if-else-flow](https://learn-ml-and-ai-blog-resources.s3.us-east-2.amazonaws.com/PythonFundamentals/if-else-flow.png)\n",
    "\n",
    "In the above example, if the number was an even number we printed that the number is an even number. What if we want to print that the number if not even when the if condition fails? We can use the `else` block to do that as below."
   ]
  },
  {
   "cell_type": "code",
   "execution_count": 32,
   "metadata": {},
   "outputs": [
    {
     "name": "stdout",
     "output_type": "stream",
     "text": [
      "3 is an odd number.\n",
      "if-else statement ended\n"
     ]
    }
   ],
   "source": [
    "number = 3\n",
    "\n",
    "if number%2 == 0:\n",
    "    print('{0} is an even number.'.format(number))\n",
    "else:\n",
    "    print('{0} is an odd number.'.format(number))\n",
    "\n",
    "print('if-else statement ended')"
   ]
  },
  {
   "cell_type": "markdown",
   "metadata": {},
   "source": [
    "As we can see in the example above, for the value of `3` the `if` statement evaluates to `False` and thus the `else` statement block is executed."
   ]
  },
  {
   "cell_type": "markdown",
   "metadata": {},
   "source": [
    "***if-elif-else statement***"
   ]
  },
  {
   "cell_type": "markdown",
   "metadata": {},
   "source": [
    "We can check for additional conditions using the `elif` as below:"
   ]
  },
  {
   "cell_type": "code",
   "execution_count": 33,
   "metadata": {},
   "outputs": [
    {
     "name": "stdout",
     "output_type": "stream",
     "text": [
      "Grade B\n"
     ]
    }
   ],
   "source": [
    "score = 75\n",
    "\n",
    "if score >= 90:\n",
    "    print('Grade A')\n",
    "elif score >= 70:\n",
    "    print('Grade B')\n",
    "elif score >= 50:\n",
    "    print('Grade C')\n",
    "elif score >= 35:\n",
    "    print('Grade D')\n",
    "else:\n",
    "    print('Grade E')"
   ]
  },
  {
   "cell_type": "markdown",
   "metadata": {},
   "source": [
    "As shown in the example above we can check for multiple conditions using the `elif` statments. The program starts evaluating the conditions from the top `if` statement. As soon a condition is met, the corresponding block of code is executed and rest all the blocks in the `if-elif-else` statement are skipped. If none of the condition evaluates to `True` the `else` block is executed. \n",
    "\n",
    "Try changing the score in the above example and see what output you get."
   ]
  },
  {
   "cell_type": "markdown",
   "metadata": {},
   "source": [
    "### Loops"
   ]
  },
  {
   "cell_type": "markdown",
   "metadata": {},
   "source": [
    "Sometimes we need to execute a statment multiple times (one or more). Consider the above example in which we determined the grade based on score. This works fine if we have score of one student. What if we want to determine the grades for the entire class? There we need to run the same logic again and again for all the student's scores. `Loops` are precisely used to solve this problem where we need to execute a group of statements many times.\n",
    "\n",
    "We have two types of `loops` in python - the `for` loop and the `while` loop. Lets discuss the `for` loop first.\n",
    "\n",
    "***for loop***\n",
    "\n",
    "Syntax for the `for` loop is as below-\n",
    "\n",
    "for val in sequence:\n",
    "<br>&emsp;statement(s)\n",
    "\n",
    "Here, we iterate over each element in the sequence and the statement(s) is executed in each iteration. The `val` variable holds the value of current elemnt being iterated upon in the sequence. The iteration stops after we have reached the end of the sequence at which point we exit from the loop and start the further program execution.\n",
    "\n",
    "Lets see how we can solve the problem of evaluating grades for an entire class using the for loop."
   ]
  },
  {
   "cell_type": "code",
   "execution_count": 34,
   "metadata": {},
   "outputs": [
    {
     "name": "stdout",
     "output_type": "stream",
     "text": [
      "Grade A\n",
      "Grade C\n",
      "Grade B\n",
      "Grade D\n",
      "Grade B\n",
      "Grade A\n",
      "Grade E\n"
     ]
    }
   ],
   "source": [
    "# Example of for loop\n",
    "\n",
    "students_score_list = [92, 68, 75, 46, 88, 90, 20]\n",
    "\n",
    "for score in students_score_list:\n",
    "    if score >= 90:\n",
    "        print('Grade A')\n",
    "    elif score >= 70:\n",
    "        print('Grade B')\n",
    "    elif score >= 50:\n",
    "        print('Grade C')\n",
    "    elif score >= 35:\n",
    "        print('Grade D')\n",
    "    else:\n",
    "        print('Grade E')"
   ]
  },
  {
   "cell_type": "markdown",
   "metadata": {},
   "source": [
    "As you can see that we are able to achieve what we wanted using the `for` loop. But the result is not very user friendly. Pick any line in the middle in the ouput above and try to guess which studen't grade it is. You will have to count the row number to figure out the student number. This might work for this case but imagine how tedious and error prone it can be if there are hundreds of students. \n",
    "\n",
    "Fortunately this problem can be very easily solved using the `enumerate()` function as below:"
   ]
  },
  {
   "cell_type": "code",
   "execution_count": 35,
   "metadata": {},
   "outputs": [
    {
     "name": "stdout",
     "output_type": "stream",
     "text": [
      "Student 1 scored Grade A\n",
      "Student 2 scored Grade C\n",
      "Student 3 scored Grade B\n",
      "Student 4 scored Grade D\n",
      "Student 5 scored Grade B\n",
      "Student 6 scored Grade A\n",
      "Student 7 scored Grade E\n"
     ]
    }
   ],
   "source": [
    "# Example of enumerate\n",
    "\n",
    "students_score_list = [92, 68, 75, 46, 88, 90, 20]\n",
    "\n",
    "for index, score in enumerate(students_score_list):\n",
    "    if score >= 90:\n",
    "        print('Student {} scored Grade A'.format(index + 1))\n",
    "    elif score >= 70:\n",
    "        print('Student {} scored Grade B'.format(index + 1))\n",
    "    elif score >= 50:\n",
    "        print('Student {} scored Grade C'.format(index + 1))\n",
    "    elif score >= 35:\n",
    "        print('Student {} scored Grade D'.format(index + 1))\n",
    "    else:\n",
    "        print('Student {} scored Grade E'.format(index + 1))"
   ]
  },
  {
   "cell_type": "markdown",
   "metadata": {},
   "source": [
    "See after we used the `enumerate()` function for our sequence, we got an additional variable of `index` along with the score for each iteration. This `index` variable refers to the index of the current element being iterated upon in the sequence. So `index` refers to the index and `score` refers to the value of the element. Thus using `index + 1` we were able to print the student number in the output along with the grade which makes the output much more readable (index+ 1 because indexing starts from 0)."
   ]
  },
  {
   "cell_type": "markdown",
   "metadata": {},
   "source": [
    "***while loop***"
   ]
  },
  {
   "cell_type": "markdown",
   "metadata": {},
   "source": [
    "The while loop in Python is used to iterate over a block of code as long as the test expression (condition) is true.\n",
    "\n",
    "We generally use this loop when we don't know the number of times to iterate beforehand.\n",
    "\n",
    "Syntax of while Loop:\n",
    "\n",
    "while test_expression:\n",
    "<br>&emsp;statement(s)\n",
    "\n",
    "In the `while` loop, `test_expression` is checked first. The body of the loop is entered only if the `test_expression` evaluates to `True`. After each iteration, the `test_expression` is evaluated again. This process continues until the `test_expression` evaluates to `False`.\n",
    "\n",
    "In Python, the body of the while loop is determined through indentation.\n",
    "\n",
    "The body starts with indentation and the first unindented line marks the end.\n",
    "\n",
    "Lets try to write a program to print first 10 even numbers using while loop."
   ]
  },
  {
   "cell_type": "code",
   "execution_count": 36,
   "metadata": {},
   "outputs": [
    {
     "name": "stdout",
     "output_type": "stream",
     "text": [
      "Even number 1 is 2\n",
      "Even number 2 is 4\n",
      "Even number 3 is 6\n",
      "Even number 4 is 8\n",
      "Even number 5 is 10\n",
      "Even number 6 is 12\n",
      "Even number 7 is 14\n",
      "Even number 8 is 16\n",
      "Even number 9 is 18\n",
      "Even number 10 is 20\n"
     ]
    }
   ],
   "source": [
    "# Print first 10 even numbers using while loop\n",
    "\n",
    "current_number = 1\n",
    "number_of_even_numbers = 0\n",
    "\n",
    "while number_of_even_numbers < 10:\n",
    "    if current_number%2 == 0:\n",
    "        print('Even number {} is {}'.format(number_of_even_numbers + 1, current_number))\n",
    "        number_of_even_numbers += 1\n",
    "    current_number += 1"
   ]
  },
  {
   "cell_type": "markdown",
   "metadata": {},
   "source": [
    "As you can see in the code above, we check each number starting from 1 if it is even or not till we have found 10 even numbers. We increase the value of `number_of_even_numbers` every time we print an even number. Till `number_of_even_numbers` is less than 10, the while condition evaluates to true and the staments within the indented block are executed. As soon as the `number_of_even_numbers` becomes `10`, the `while` condition now evaluates to `False` and the loop is broken and the execution goes on to the next statement."
   ]
  },
  {
   "cell_type": "markdown",
   "metadata": {},
   "source": [
    "***break*** and ***continue***"
   ]
  },
  {
   "cell_type": "markdown",
   "metadata": {},
   "source": [
    "In Python, `break` and `continue` statements can alter the flow of a normal loop.\n",
    "\n",
    "Loops iterate over a block of code as long as the test condition evaluates to `True`, but there might be some situations where we wish to terminate the current iteration or even the whole loop even if the condition is being met.\n",
    "\n",
    "The `break` and `continue` statements are used in these cases.\n",
    "\n",
    "Using `break` we can terminate the entire loop. Using `continue` we terminate the current iteration and program continues with the next iteration of the loop."
   ]
  },
  {
   "cell_type": "code",
   "execution_count": 37,
   "metadata": {},
   "outputs": [
    {
     "name": "stdout",
     "output_type": "stream",
     "text": [
      "Loop without break statement\n",
      "0\n",
      "1\n",
      "2\n",
      "3\n",
      "4\n",
      "Loop with break statement\n",
      "0\n",
      "1\n",
      "2\n",
      "The End\n"
     ]
    }
   ],
   "source": [
    "# Example of break\n",
    "\n",
    "print('Loop without break statement')\n",
    "for num in range(5):\n",
    "    print(num)\n",
    "    \n",
    "print('Loop with break statement')\n",
    "for num in range(5):\n",
    "    if num == 3:\n",
    "        break\n",
    "    print(num)\n",
    "    \n",
    "print('The End')"
   ]
  },
  {
   "cell_type": "markdown",
   "metadata": {},
   "source": [
    "`range(n)` function is used to generate a sequence of numbers from 0 to n-1.\n",
    "\n",
    "As we can see in the example above, in the first loop numbers get printed from 0 to 4. But in the second example in which we have placed a `break` statement in the flow when `num == 3`, numbers from 0 to 2 are printed. As soon as the `break` condition is met, the loop execution is terminated."
   ]
  },
  {
   "cell_type": "code",
   "execution_count": 38,
   "metadata": {},
   "outputs": [
    {
     "name": "stdout",
     "output_type": "stream",
     "text": [
      "Loop without continue statement\n",
      "0\n",
      "1\n",
      "2\n",
      "3\n",
      "4\n",
      "Loop with continue statement\n",
      "0\n",
      "1\n",
      "2\n",
      "4\n",
      "The End\n"
     ]
    }
   ],
   "source": [
    "# Example of continue\n",
    "print('Loop without continue statement')\n",
    "for num in range(5):\n",
    "    print(num)\n",
    "    \n",
    "print('Loop with continue statement')\n",
    "for num in range(5):\n",
    "    if num == 3:\n",
    "        continue\n",
    "    print(num)\n",
    "    \n",
    "print('The End')"
   ]
  },
  {
   "cell_type": "markdown",
   "metadata": {},
   "source": [
    "Here we can see that that only the value of 3 is not printed in the second loop. When `num` becomes `3` and the `if` condition evaluates to `True` the execution of the `continue` statement only terminates the current iteration of the loop because of which the print function for value of 3 is not called. But in the next iteration `num` becomes `4` and the loop continues."
   ]
  },
  {
   "cell_type": "markdown",
   "metadata": {},
   "source": [
    "## Functions"
   ]
  },
  {
   "cell_type": "markdown",
   "metadata": {},
   "source": [
    "In Python, a function is a group of related statements that performs a specific task.\n",
    "\n",
    "Functions help break our program into smaller and modular chunks. As our program grows larger and larger, functions make it more organized and manageable. Furthermore, it avoids repetition and makes the code reusable.\n",
    "\n",
    "We can call a function using its name followed by `()` - pair of parenthesis. We can optionally provide arguments within the parenthesis.\n",
    "\n",
    "We have been using the functions all along till now without even realising it. The `print()` command we have been using to print the output is also a function. Some of the commonly used built-in functions available in python are-\n",
    "\n",
    "-  `print()` - > used to print a statment passed within the parenthesis\n",
    "-  `len()` -> used to find the length of a collection\n",
    "-  `range()` -> used to create a sequence from 0 to n-1\n",
    "-  `sum()` -> gives the sum of a sequence\n",
    "-  `sorted()` -> sorts a sequence\n",
    "\n",
    "Lets take a look at the example of each"
   ]
  },
  {
   "cell_type": "code",
   "execution_count": 39,
   "metadata": {},
   "outputs": [
    {
     "name": "stdout",
     "output_type": "stream",
     "text": [
      "This statement will be printed as it is\n"
     ]
    }
   ],
   "source": [
    "# Example of print\n",
    "print('This statement will be printed as it is')"
   ]
  },
  {
   "cell_type": "code",
   "execution_count": 40,
   "metadata": {},
   "outputs": [
    {
     "data": {
      "text/plain": [
       "[0, 1, 2, 3, 4, 5, 6, 7, 8, 9]"
      ]
     },
     "execution_count": 40,
     "metadata": {},
     "output_type": "execute_result"
    }
   ],
   "source": [
    "# Example of range\n",
    "numbers = list(range(10))\n",
    "numbers"
   ]
  },
  {
   "cell_type": "code",
   "execution_count": 41,
   "metadata": {},
   "outputs": [
    {
     "data": {
      "text/plain": [
       "10"
      ]
     },
     "execution_count": 41,
     "metadata": {},
     "output_type": "execute_result"
    }
   ],
   "source": [
    "# Example of len\n",
    "len(numbers)"
   ]
  },
  {
   "cell_type": "code",
   "execution_count": 42,
   "metadata": {},
   "outputs": [
    {
     "data": {
      "text/plain": [
       "45"
      ]
     },
     "execution_count": 42,
     "metadata": {},
     "output_type": "execute_result"
    }
   ],
   "source": [
    "# Example of sum\n",
    "sum(numbers)"
   ]
  },
  {
   "cell_type": "code",
   "execution_count": 43,
   "metadata": {},
   "outputs": [
    {
     "name": "stdout",
     "output_type": "stream",
     "text": [
      "Initial list : [1, 5, 2, -4, 10, 5, 3]\n",
      "Sorted list : [-4, 1, 2, 3, 5, 5, 10]\n"
     ]
    }
   ],
   "source": [
    "# Example of sorted\n",
    "random_list = [1, 5, 2, -4, 10, 5, 3]\n",
    "print('Initial list : {}'.format(random_list))\n",
    "print('Sorted list : {}'.format(sorted(random_list)))"
   ]
  },
  {
   "cell_type": "markdown",
   "metadata": {},
   "source": [
    "Apart from the built-in functions we can create our own functions for our custom use cases.\n",
    "\n",
    "Syntax of function:\n",
    "\n",
    "def function_name(parameters):\n",
    "<br>&emsp;\"\"\"docstring\"\"\"\n",
    "<br>&emsp;statement(s)\n",
    "\n",
    "Above shown is a function definition that consists of the following components.\n",
    "1. Keyword ***def*** that marks the start of a function.\n",
    "2. A ***function name*** to uniquely identify the function. \n",
    "3. Optional ***parameters*** (arguments) through which we pass values to a function.\n",
    "4. A colon ***`:`*** to mark the end of the function header.\n",
    "5. Optional ***documentation string*** (docstring) to describe what the function does.\n",
    "6. One or more valid python statements that make up the function body. Statements must have the same indentation level.\n",
    "7. An optional ***return*** statement to return a value from the function. If no return statement is provided, by default NONE is returned.\n",
    "\n",
    "Lets consider an example."
   ]
  },
  {
   "cell_type": "code",
   "execution_count": 44,
   "metadata": {},
   "outputs": [],
   "source": [
    "# Example of function\n",
    "\n",
    "def display_name(name):\n",
    "    print('Hello {}'.format(name))"
   ]
  },
  {
   "cell_type": "markdown",
   "metadata": {},
   "source": [
    "Here we have created a function with the name `display_name` which accepts `name` as a parameter. Inside the function we use the passed name to print a statement.\n",
    "\n",
    "We can now use this function whereever needed by just calling this function using its name followed by the parenthesis and passing a name within the parenthesis as shown below."
   ]
  },
  {
   "cell_type": "code",
   "execution_count": 45,
   "metadata": {},
   "outputs": [
    {
     "name": "stdout",
     "output_type": "stream",
     "text": [
      "Hello Tom Hanks\n",
      "Hello Michael Jackson\n",
      "Hello Yuvraj Singh\n"
     ]
    }
   ],
   "source": [
    "display_name('Tom Hanks')\n",
    "display_name('Michael Jackson')\n",
    "display_name('Yuvraj Singh')"
   ]
  },
  {
   "cell_type": "markdown",
   "metadata": {},
   "source": [
    "We can call this function as many times as we want with whatever valid name we want and wherever in the program we want where it is available."
   ]
  },
  {
   "cell_type": "markdown",
   "metadata": {},
   "source": [
    "**The return statement**\n",
    "\n",
    "The `return` statement is used to exit a function and go back to the place from where it was called.\n",
    "\n",
    "`return` statement can also optionally contain a value to be returned to the caller of the function. If no `return` statement is provided, program by default returns a `None` value."
   ]
  },
  {
   "cell_type": "code",
   "execution_count": 46,
   "metadata": {},
   "outputs": [
    {
     "name": "stdout",
     "output_type": "stream",
     "text": [
      "Hello Python\n",
      "None\n"
     ]
    }
   ],
   "source": [
    "return_value = display_name('Python')\n",
    "print(return_value)"
   ]
  },
  {
   "cell_type": "markdown",
   "metadata": {},
   "source": [
    "As in our function `display_name()` we haven't provided a return statement, we can see if we try to print the ddefault return value, `None` is printed.\n",
    "\n",
    "We often use `return` statement to return meaningful results from a function.\n",
    "\n",
    "Suppose we need to create a function which takes user's first name and last name as parameters and return the full name. We can create this function as below-"
   ]
  },
  {
   "cell_type": "code",
   "execution_count": 47,
   "metadata": {},
   "outputs": [],
   "source": [
    "def get_full_name(first_name, second_name):\n",
    "    full_name = first_name + ' ' + second_name\n",
    "    return full_name"
   ]
  },
  {
   "cell_type": "markdown",
   "metadata": {},
   "source": [
    "Now we can use this function wherever we need as below-"
   ]
  },
  {
   "cell_type": "code",
   "execution_count": 48,
   "metadata": {},
   "outputs": [
    {
     "name": "stdout",
     "output_type": "stream",
     "text": [
      "Tom Hanks\n"
     ]
    }
   ],
   "source": [
    "user_first_name = 'Tom'\n",
    "user_last_name = 'Hanks'\n",
    "user_full_name = get_full_name(user_first_name, user_last_name)\n",
    "print(user_full_name)"
   ]
  },
  {
   "cell_type": "markdown",
   "metadata": {},
   "source": [
    "As another example, we can better organize our code of calculating grades of a class using functions as below."
   ]
  },
  {
   "cell_type": "code",
   "execution_count": 49,
   "metadata": {},
   "outputs": [],
   "source": [
    "def calculate_grade(score):\n",
    "    if score >= 90:\n",
    "        grade = 'A'\n",
    "    elif score >= 70:\n",
    "        grade = 'B'\n",
    "    elif score >= 50:\n",
    "        grade = 'C'\n",
    "    elif score >= 35:\n",
    "        grade = 'D'\n",
    "    else:\n",
    "        grade = 'E'\n",
    "    return grade"
   ]
  },
  {
   "cell_type": "code",
   "execution_count": 50,
   "metadata": {},
   "outputs": [
    {
     "name": "stdout",
     "output_type": "stream",
     "text": [
      "Student 1 scored Grade A\n",
      "Student 2 scored Grade C\n",
      "Student 3 scored Grade B\n",
      "Student 4 scored Grade D\n",
      "Student 5 scored Grade B\n",
      "Student 6 scored Grade A\n",
      "Student 7 scored Grade E\n"
     ]
    }
   ],
   "source": [
    "students_score_list = [92, 68, 75, 46, 88, 90, 20]\n",
    "\n",
    "for index, score in enumerate(students_score_list):\n",
    "    grade = calculate_grade(score)\n",
    "    print('Student {} scored Grade {}'.format(index + 1, grade))"
   ]
  },
  {
   "cell_type": "markdown",
   "metadata": {},
   "source": [
    "Moving the logic to calculate grade based on score has been moved to a separate function named `calculate_grade`. This makes the code much more readable and the same logic for calculating grade can be used from different places removing possible code duplication."
   ]
  },
  {
   "cell_type": "markdown",
   "metadata": {},
   "source": [
    "### Scope of variables"
   ]
  },
  {
   "cell_type": "markdown",
   "metadata": {},
   "source": [
    "***Scope*** of a variable refers to the part of the program where that variable is recognized and can be used. Varibales can either have a `global scope` or `local scope`.\n",
    "\n",
    "Parameters and variables defined inside a function are not visible from outside the function. Hence, they have a local scope.\n",
    "\n",
    "Variables defined outside of any function are visible everywhere in the program. They thus have a global scope.\n",
    "\n",
    "Lets first look at examples for variables with local scopes."
   ]
  },
  {
   "cell_type": "code",
   "execution_count": 51,
   "metadata": {},
   "outputs": [],
   "source": [
    "# Local scope variable example\n",
    "\n",
    "def add_two_numbers(num1, num2):\n",
    "    sum_of_numbers = num1 + num2\n",
    "    print(sum_of_numbers)"
   ]
  },
  {
   "cell_type": "markdown",
   "metadata": {},
   "source": [
    "In the above example we have defined a function named `add_two_numbers` which takes two numbers as parameters, adds them and prints the result. We have created a local variable named `sum_of_numbers` to hold the sum value in the function. Lets use this function and try to access the local variable outisde the function."
   ]
  },
  {
   "cell_type": "code",
   "execution_count": 52,
   "metadata": {},
   "outputs": [
    {
     "name": "stdout",
     "output_type": "stream",
     "text": [
      "13\n"
     ]
    }
   ],
   "source": [
    "add_two_numbers(4, 9)"
   ]
  },
  {
   "cell_type": "code",
   "execution_count": 53,
   "metadata": {},
   "outputs": [
    {
     "ename": "NameError",
     "evalue": "name 'sum_of_numbers' is not defined",
     "output_type": "error",
     "traceback": [
      "\u001b[0;31m---------------------------------------------------------------------------\u001b[0m",
      "\u001b[0;31mNameError\u001b[0m                                 Traceback (most recent call last)",
      "\u001b[0;32m<ipython-input-53-b8b1a1c93cfd>\u001b[0m in \u001b[0;36m<module>\u001b[0;34m\u001b[0m\n\u001b[0;32m----> 1\u001b[0;31m \u001b[0msum_of_numbers\u001b[0m\u001b[0;34m\u001b[0m\u001b[0;34m\u001b[0m\u001b[0m\n\u001b[0m",
      "\u001b[0;31mNameError\u001b[0m: name 'sum_of_numbers' is not defined"
     ]
    }
   ],
   "source": [
    "sum_of_numbers"
   ]
  },
  {
   "cell_type": "markdown",
   "metadata": {},
   "source": [
    "As we can see, trying to access the local variable `sum_of_numbers` errors out stating that variable with this name is not defined which makes sense as the variable was defined inside a function and can't be used outside of the function.\n",
    "\n",
    "Now lets take a look at example og global variables."
   ]
  },
  {
   "cell_type": "code",
   "execution_count": 54,
   "metadata": {},
   "outputs": [
    {
     "name": "stdout",
     "output_type": "stream",
     "text": [
      "Number 1 is - 10\n",
      "Number 2 is - 20\n",
      "Sum is : 30\n",
      "Product is : 200\n"
     ]
    }
   ],
   "source": [
    "# Global scope variable example\n",
    "\n",
    "num1 = 10\n",
    "num2 = 20\n",
    "\n",
    "def add():\n",
    "    sum_of_numbers = num1 + num2\n",
    "    print('Sum is : {}'.format(sum_of_numbers))\n",
    "    \n",
    "def product():\n",
    "    product_of_numbers = num1 * num2\n",
    "    print('Product is : {}'.format(product_of_numbers))\n",
    "    \n",
    "print('Number 1 is - {}'.format(num1))\n",
    "print('Number 2 is - {}'.format(num2))\n",
    "\n",
    "add()\n",
    "product()\n"
   ]
  },
  {
   "cell_type": "markdown",
   "metadata": {},
   "source": [
    "As we can see in the above example, we created two variables `num1` and `num2` outside any function. Thus they have a global scope and can be used anywhere in the program. We show their usage inside the `add()` and `product()` functions as well outside any function where we print their values.\n",
    "\n",
    "Although a global variable is accessible inside a function, a function can't modify a global variable. As soon as a function tries to change a global variable, a new local variable with the same name is created with the new value and the global variable remains unchanged. Lets see this in the example below."
   ]
  },
  {
   "cell_type": "code",
   "execution_count": 55,
   "metadata": {},
   "outputs": [
    {
     "name": "stdout",
     "output_type": "stream",
     "text": [
      "Number before calling the function is - 100\n",
      "In the function, new number is : {} 500\n",
      "Number after calling the function is - 100\n"
     ]
    }
   ],
   "source": [
    "number = 100\n",
    "\n",
    "def change_number():\n",
    "    number = 500\n",
    "    print('In the function, new number is : {}', number)\n",
    "    return\n",
    "\n",
    "print('Number before calling the function is - {}'.format(number))\n",
    "change_number()\n",
    "print('Number after calling the function is - {}'.format(number))"
   ]
  },
  {
   "cell_type": "markdown",
   "metadata": {},
   "source": [
    "In the above example, we created a global variable `number` with a value of 100. We then created a function to change the value of `number`. Within the function we can see that the `number` has the new value of 500 but as we can see from the print statement after the function call that the global variable `number` still holds the value of 100 and is not changed by the function.\n",
    "\n",
    "In order to modify the value of global variables inside the function, we must use the `global` keyword as shown below."
   ]
  },
  {
   "cell_type": "code",
   "execution_count": 56,
   "metadata": {},
   "outputs": [
    {
     "name": "stdout",
     "output_type": "stream",
     "text": [
      "Number before calling the function is - 100\n",
      "In the function, new number is : {} 500\n",
      "Number after calling the function is - 500\n"
     ]
    }
   ],
   "source": [
    "# Modifying global variable inside a function\n",
    "\n",
    "number = 100\n",
    "\n",
    "def change_number():\n",
    "    global number\n",
    "    number = 500\n",
    "    print('In the function, new number is : {}', number)\n",
    "    return\n",
    "\n",
    "print('Number before calling the function is - {}'.format(number))\n",
    "change_number()\n",
    "print('Number after calling the function is - {}'.format(number))"
   ]
  },
  {
   "cell_type": "markdown",
   "metadata": {},
   "source": [
    "As we can see, this time printing the value of the variable after calling the function prints the new value of the variables which was assigned inside the function. Thus using `global` we can change a global variable from inside a function."
   ]
  },
  {
   "cell_type": "markdown",
   "metadata": {},
   "source": [
    "<hr>\n",
    "\n",
    "<br>*So this brings us to the end of the Part 3 of this series of posts on Python Fundamentals. Hope you found this useful.* \n",
    "\n",
    "You can read Part 4 of the series [here](http://learningmlandai.com/python-fundamentals-part-4/) in which we have discussed about:\n",
    "\n",
    "-  ___List Comprehensions___ \n",
    "-  ***Lambda Functions***\n",
    "-  ***Map, Reduce and Filter***\n",
    "\n",
    "You can view all the posts in this series [here](http://learningmlandai.com/python-fundamentals/).\n",
    "\n",
    "You can also checkout the source notebook for this post [here](https://github.com/guptanik/python-fundamentals/blob/master/PythonFundamentals-Part3.ipynb) on Github."
   ]
  },
  {
   "cell_type": "markdown",
   "metadata": {},
   "source": [
    "***Additional Resources***\n",
    "\n",
    "-  __[Source Notebook for this post](https://github.com/guptanik/python-fundamentals/blob/master/PythonFundamentals-Part3.ipynb)__\n",
    "-  __[Python Official Site](https://www.python.org/)__\n",
    "-  __[Applications of Python](https://www.python.org/about/apps/)__\n",
    "-  __[Official documentation](https://docs.python.org/3/)__"
   ]
  }
 ],
 "metadata": {
  "kernelspec": {
   "display_name": "Python 3",
   "language": "python",
   "name": "python3"
  },
  "language_info": {
   "codemirror_mode": {
    "name": "ipython",
    "version": 3
   },
   "file_extension": ".py",
   "mimetype": "text/x-python",
   "name": "python",
   "nbconvert_exporter": "python",
   "pygments_lexer": "ipython3",
   "version": "3.7.6"
  }
 },
 "nbformat": 4,
 "nbformat_minor": 4
}
