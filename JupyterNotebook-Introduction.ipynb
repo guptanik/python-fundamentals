{
 "cells": [
  {
   "cell_type": "markdown",
   "metadata": {},
   "source": [
    "# Introduction to Jupyter Notebook"
   ]
  },
  {
   "cell_type": "markdown",
   "metadata": {},
   "source": [
    "![image](https://learn-ml-and-ai-blog-resources.s3.us-east-2.amazonaws.com/JupyterIntroduction/Jupyter_notebook_introduction_logo_image.png)"
   ]
  },
  {
   "cell_type": "markdown",
   "metadata": {},
   "source": [
    "<br>\n",
    "\n",
    "This article will introduce you to ***Jupyter notebook*** which has become an incredibly powerful tool for interactively developing and presenting data science projects. By the end of this article, you will feel very comfortable working with the Jupyter notebook and it will become your preferred option as well. \n",
    "\n",
    "I highly recommend you to follow the DIY approach as you go along with this article. Try out the concepts as they are introduced. This will help you gain the most out of this article."
   ]
  },
  {
   "cell_type": "markdown",
   "metadata": {},
   "source": [
    "So, ***What is Jupyter notebook?***\n",
    "\n",
    "As per official documentation,\n",
    "\n",
    "`Jupyter notebook is an open-source web application that allows you to create and share documents that contain live code, equations, visualizations and narrative text. Uses include: data cleaning and transformation, numerical simulation, statistical modeling, data visualization, machine learning, and much more.`\n",
    "\n",
    "***Technically*** - Jupyter Notebook is built off of IPython, an interactive way of running Python code in the terminal. The IPython Kernel runs the computations and communicates with the Jupyter Notebook front-end interface. Jupyter Notebook extends IPython by providing a web-based application suitable for capturing the whole computation process: developing, documenting, and executing code, as well as communicating the results. \n",
    "\n",
    "A notebook integrates code and its output into a single document that combines visualizations, images, mathematical equations, and other rich media. This means that you can write both code and normal text (using the Markdown format) in a single notebook and can execute these and the results will be displayed inline within the notebook. This intuitive workflow promotes iterative and rapid development and makes a Jupyter notebook easy to read and share."
   ]
  },
  {
   "cell_type": "markdown",
   "metadata": {},
   "source": [
    "## Installing Jupyter notebook"
   ]
  },
  {
   "cell_type": "markdown",
   "metadata": {},
   "source": [
    "While Jupyter supports writing and executing code in many programming languages, Python (Python 3.3 or greater, or Python 2.7) is a prerequisite for installing Jupyter notebook. \n",
    "\n",
    "Using [Anaconda](https://www.anaconda.com/products/individual) is the widely recommended way to install Python and Jupyter. Anaconda conveniently installs Python, the Jupyter Notebook, and other commonly used packages for scientific computing and data science.\n",
    "\n",
    "You can use the following steps to install Anaconda:\n",
    "1. Download [Anaconda](https://www.anaconda.com/products/individual). It is recommended to download Anaconda’s latest Python 3 version.\n",
    "2. Install the version of Anaconda which you downloaded, following the instructions on the download page.\n",
    "3. Congratulations, you have installed Jupyter Notebook. \n",
    "\n",
    "If you are a more advanced user with Python already installed and prefer to manage your packages manually, you can just use pip:\n",
    "\n",
    "`pip3 install jupyter`"
   ]
  },
  {
   "cell_type": "markdown",
   "metadata": {},
   "source": [
    "## Starting the Jupyter Notebook server"
   ]
  },
  {
   "cell_type": "markdown",
   "metadata": {},
   "source": [
    "After you have installed Jupyter Notebook on your computer, you are ready to run the notebook server. You can start the notebook server from the command line (using Terminal on Mac/Linux, Command Prompt on Windows). Navigate to the directory where you want to create your notebook (or have an already existing one) and run the following command:\n",
    "\n",
    "`jupyter notebook`\n",
    "\n",
    "This will print some information about the notebook server in your terminal, including the URL of the web application (by default, http://localhost:8888):\n",
    "<br> ![launchine_jupyter_notebook](https://learn-ml-and-ai-blog-resources.s3.us-east-2.amazonaws.com/JupyterIntroduction/launching_jupyter_notebook.jpg)\n",
    "\n",
    "<br> A browser window should immediately pop up where you can see the Notebook Dashboard, which will show a list of the notebooks, files, and subdirectories in the directory where the notebook server was started.  Often this will be your home directory. \n",
    "\n",
    "![notebook_dashboard](https://learn-ml-and-ai-blog-resources.s3.us-east-2.amazonaws.com/JupyterIntroduction/notebook_dashboard.jpg)\n",
    "\n",
    "<br> To stop the server and shutdown the kernel from the terminal, hit `control-C` twice."
   ]
  },
  {
   "cell_type": "markdown",
   "metadata": {},
   "source": [
    "## Creating a new notebook\n"
   ]
  },
  {
   "cell_type": "markdown",
   "metadata": {},
   "source": [
    "To create a new notebook, go to New and then from the dropdown menu select Python 3 as shown in image below.\n",
    "\n",
    "![create_new_notebook](https://learn-ml-and-ai-blog-resources.s3.us-east-2.amazonaws.com/JupyterIntroduction/create_new_notebook.jpg)\n",
    "\n",
    "<br> Thats all you need to create your first Jupyter notebook. Your first Jupyter Notebook will open in new tab. \n",
    "\n",
    "If you switch back to the dashboard tab, you will see a new file is created with the name of your notebook with ***.ipynb*** extension. All Jupyter Notebooks are identifiable by the notebook icon next to their name.\n",
    "\n",
    "![notebooks_in_dashboard](https://learn-ml-and-ai-blog-resources.s3.us-east-2.amazonaws.com/JupyterIntroduction/notebooks_in_dashboard.jpg)\n",
    "\n",
    "<br> As you can see in the above image, you can identify all the notebooks which are currently running. Notebooks currently running will have a green icon, while non-running ones will be grey.\n",
    "\n",
    "You can open multiple notebooks simultaneously and each notebook will open in a new tab.\n",
    "\n",
    "<br>\n",
    "\n",
    "***What is an .ipynb file?***\n",
    "\n",
    "Each Jupyter notebook is stored with an .ipynb extension. Each .ipynb file is a text file that describes the contents of your notebook in the ***JSON*** format. Each cell and its contents, including image attachments that have been converted into strings of text, is listed therein along with some metadata."
   ]
  },
  {
   "cell_type": "markdown",
   "metadata": {},
   "source": [
    "## Notebook Interface"
   ]
  },
  {
   "cell_type": "markdown",
   "metadata": {},
   "source": [
    "Now that you have an open notebook in front of you, its interface will hopefully not look entirely alien; after all, Jupyter is essentially just an advanced word processor. Exploring the menu you should find most of the options self explanatory or try to hover over an option and you will see description of what that option does.\n",
    "\n",
    "<br> The toolbar has several shortcut buttons for popular actions. From left to right: save, add a new cell, cut selected cells, copy selected cells, paste cells below, move selected cells up, move selected cells down, run, interrupt the kernel, restart the kernel, a dropdown that allows you to change the cell type, and a shortcut to open the command palette.\n",
    "\n",
    "![toolbar](https://learn-ml-and-ai-blog-resources.s3.us-east-2.amazonaws.com/JupyterIntroduction/toolbar.jpg)\n",
    "\n",
    "<br> In the menu bar, there are two fairly prominent terms that you should notice, which are probably new to you: cells and kernels are key both to understanding Jupyter and to what makes it more than just a word processor. Fortunately, these concepts are not difficult to understand.\n",
    "-  A ***kernel*** is a “computational engine” that executes the code contained in a notebook document.\n",
    "-  A ***cell*** is a container for text to be displayed in the notebook or code to be executed by the notebook’s kernel.\n"
   ]
  },
  {
   "cell_type": "markdown",
   "metadata": {},
   "source": [
    "## Kernel"
   ]
  },
  {
   "cell_type": "markdown",
   "metadata": {},
   "source": [
    "Behind every notebook runs a ***kernel***. When you run a code cell, that code is executed within the kernel and any output is returned back to the cell to be displayed. The kernel’s state persists over time and between cells — it pertains to the document as a whole and not individual cells."
   ]
  },
  {
   "cell_type": "markdown",
   "metadata": {},
   "source": [
    "## Cell"
   ]
  },
  {
   "cell_type": "markdown",
   "metadata": {},
   "source": [
    "***Cells*** are how notebooks are structured and are the areas where you write your code or your markup text. A cell can be considered as the basic building block of a jupyter notebook. A notebook is made up of one or more cells.  "
   ]
  },
  {
   "cell_type": "markdown",
   "metadata": {},
   "source": [
    "### Different cell modes"
   ]
  },
  {
   "cell_type": "markdown",
   "metadata": {},
   "source": [
    "Each cell can have 2 modes-\n",
    "-  __Command__ mode \n",
    "-  __Edit__ mode\n",
    "\n",
    "__Command mode__\n",
    "\n",
    "Command mode can be identified by a blue border around the cell. To enter the COMMAND mode press `ESC` or click anywhere outside the cell. When you are in Command mode, you can't type in the cells.\n",
    "\n",
    "![command_mode](https://learn-ml-and-ai-blog-resources.s3.us-east-2.amazonaws.com/JupyterIntroduction/command_mode.png)\n",
    "\n",
    "<br> __Edit mode__\n",
    "\n",
    "Edit mode can be identified by green border around the cell with green left margin. To enter the EDIT mode, press `ENTER` or click inside a cell. When you are in the edit mode, you can type in the cells.\n",
    "\n",
    "![edit_mode](https://learn-ml-and-ai-blog-resources.s3.us-east-2.amazonaws.com/JupyterIntroduction/edit_mode.png)"
   ]
  },
  {
   "cell_type": "markdown",
   "metadata": {},
   "source": [
    "### Executing a cell"
   ]
  },
  {
   "cell_type": "markdown",
   "metadata": {},
   "source": [
    "To execute a cell, click on the cell to select it, then press `SHIFT+ENTER` or press the play button in the toolbar above. Additionally, the ***Cell*** dropdown menu has several options to run cells, including running one cell at a time or to run all cells at once.\n",
    "\n",
    "![cell_menu_option_dropdown](https://learn-ml-and-ai-blog-resources.s3.us-east-2.amazonaws.com/JupyterIntroduction/cell_menu_option_dropdown.jpg)\n",
    "\n",
    "<br> Let’s test it out with a classic hello world example. Type `print('Hello World!')` into the cell and click the run button in the toolbar above or press `SHIFT+ENTER`. The result should look like this:"
   ]
  },
  {
   "cell_type": "code",
   "execution_count": 1,
   "metadata": {},
   "outputs": [],
   "source": [
    "print('Hello World!')"
   ]
  },
  {
   "cell_type": "markdown",
   "metadata": {},
   "source": [
    "When you execute a code cell, its output is displayed inline just below the cell and the label to its left will have changed from `In [ ]` to `In [1]`. The output of a code cell also forms part of the document.\n"
   ]
  },
  {
   "cell_type": "markdown",
   "metadata": {},
   "source": [
    "### Creating a new cell"
   ]
  },
  {
   "cell_type": "markdown",
   "metadata": {},
   "source": [
    "To create new cells, use the plus `(+)` button in the toolbar or use keyboards shortcuts which we will be discussing in the next section in this article.\n",
    "\n",
    "In addition to running lines of code, you can also include ***text-only*** cells that use ***Markdown*** to format and organize your notebooks."
   ]
  },
  {
   "cell_type": "markdown",
   "metadata": {},
   "source": [
    "<br> <font size=\"+2\">This is a markdown cell. I can make the text appear </font>\n",
    "<font size=\"+2\" color = red> red </font> or \n",
    "<font size=\"+2\" color = blue> blue </font> or \n",
    "<font size=\"+4\"> big </font> or \n",
    "<font size=\"-3\"> small </font> or \n",
    "_italics_ or __bold__ or ***both***"
   ]
  },
  {
   "cell_type": "markdown",
   "metadata": {},
   "source": [
    "<br> You can always tell the difference between ***Code*** and ***Markdown*** cells because ***Code cells have `In []` label on the left*** and ***Markdown cells do not***.\n",
    "\n",
    "Thus there are mainly two types of cells:\n",
    "-  A __Code cell__ contains code to be executed in the kernel and displays its output below.\n",
    "-  A __Markdown cell__ contains text formatted using markdown and displays its output in-place when it is run.\n",
    "\n",
    "When you create a new cell, it will default to being a Code cell. You can change the cell type by clicking on the cell type option in the toolbar and selecting the appropriate type.\n",
    "\n",
    "![cell_type_dropdown](https://learn-ml-and-ai-blog-resources.s3.us-east-2.amazonaws.com/JupyterIntroduction/cell_type_dropdown.jpg)"
   ]
  },
  {
   "cell_type": "markdown",
   "metadata": {},
   "source": [
    "### Formatting in Markdown cells"
   ]
  },
  {
   "cell_type": "markdown",
   "metadata": {},
   "source": [
    "***Title and headings***\n",
    "\n",
    "`# Single hash is used for title`\n",
    "# This is a title\n",
    "<br> `## Two hash characters denote a heading`\n",
    "## This is a heading\n",
    "<br> `### Three hash characters denote a subheading`\n",
    "### This is a subheading\n",
    "<br> `#### Four hash characters denote the 3rd level heading` - Four hash characters denote the 3rd level heading\n",
    "#### This is as small as a heading can get\n",
    "<br> `##### The fifth hash makes it Italic!`\n",
    "##### I am in italics!"
   ]
  },
  {
   "cell_type": "markdown",
   "metadata": {},
   "source": [
    "<hr>\n",
    "\n",
    "***Bold and italics***\n",
    "\n",
    "`Two underscore characters on both sides make text appear bold__` -> __This will appear bold__ \n",
    "\n",
    "`**So does two star characters**` -> **This will appear bold as well**\n",
    "\n",
    "`_Single underscore character make text appear italic_` -> _This will appear italic_\n",
    "\n",
    "`*Single star character make text appear italic as well*` -> *This appears in italics as well*\n",
    "\n",
    "`___Three underscore charcters make text appear both bold and italics___` -> ___This will appear both bold and italics___\n",
    "\n",
    "`***Three star charcters make text appear both bold and italics as well***` -> ***This appears both bold and italics as well***"
   ]
  },
  {
   "cell_type": "markdown",
   "metadata": {},
   "source": [
    "<hr>\n",
    "\n",
    "***Monospace fonts (text with a background)***\n",
    "\n",
    "Use a back single quotation mark (\\`) to get monospace fonts.\n",
    "\n",
    "\\`This text will appear in monospace font\\` -> `This text will appear in monospace font`\n",
    "<br> \\`Jupyter notebook is a powerful tool\\` -> `Jupyter notebook is a powerful tool`"
   ]
  },
  {
   "cell_type": "markdown",
   "metadata": {},
   "source": [
    "<hr>\n",
    "\n",
    "***Indenting***\n",
    "\n",
    "Use `>` to indent your text.\n",
    " \n",
    "This is the first line\n",
    "> This is a indented line.\n",
    ">> This further indents it.\n",
    ">>> And this can go on and on.\n"
   ]
  },
  {
   "cell_type": "markdown",
   "metadata": {},
   "source": [
    "<hr>\n",
    "\n",
    "***Bullets and Numbering***\n",
    "\n",
    "\\- A dash followed by two spaces, i.e. `'-  '` creates a bullet. \n",
    "-  Points One\n",
    "    -  Pressing a `tab` before doing the above creates a sub-bullet.\n",
    "\n",
    "<br> Use numeric 1 followed by a dot and space, i.e. `'1. '` to start a numbered list\n",
    "1. Lets start here\n",
    "2. And keep going\n",
    "3. On and on and on\n",
    "    1. Again just a `tab` for sub-bullet"
   ]
  },
  {
   "cell_type": "markdown",
   "metadata": {},
   "source": [
    "<hr>\n",
    "\n",
    "***Adding an image***\n",
    "\n",
    "You can add an image from the web by using `![image_name](image_path)`\n",
    "\n",
    "![image](https://learn-ml-and-ai-blog-resources.s3.us-east-2.amazonaws.com/PythonFundamentals/python_logo.png)"
   ]
  },
  {
   "cell_type": "markdown",
   "metadata": {},
   "source": [
    "<br>\n",
    "\n",
    "***Latex equations***\n",
    "\n",
    "Jupyter notebook also supports LaTeX equations. Use a `$` on either side to write a LaTeX equation.\n",
    "\n",
    "The below example is just a hypothetical equation to explain how you can write LaTeX equations in Jupyter notebook. \n",
    "\n",
    "`$(a + b)^2 = a^2 + b^2 + 2*a*b$` produces -\n",
    "\n",
    "$(a + b)^2 = a^2 + b^2 + 2*a*b$\n",
    "\n",
    "You can read more about using LaTex syntax  [here](https://en.wikibooks.org/wiki/LaTeX/Mathematics)"
   ]
  },
  {
   "cell_type": "markdown",
   "metadata": {},
   "source": [
    "## Keyboard Shortcuts"
   ]
  },
  {
   "cell_type": "markdown",
   "metadata": {},
   "source": [
    "Like any other tool/software, you can greatly enhance your productivity and efficiency if you remember and use some of the keyboard shortcuts.\n",
    "\n",
    "Below you can find a list of different shortcuts that are generally used:"
   ]
  },
  {
   "cell_type": "markdown",
   "metadata": {},
   "source": [
    "### Command mode shortcuts\n",
    "\n",
    "-  `Esc` : To go into command mode\n",
    "-  `Enter` : To go back to edit mode\n",
    "-  `M` : To convert a cell to a markdown cell\n",
    "-  `Y` : To convert a cell back to a code cell\n",
    "-  `A` : To insert a new cell above\n",
    "-  `B` : To insert a new cell below\n",
    "-  `D + D` : To delete cell\n",
    "-  `Z` : Undo the last operation\n",
    "-  `F` : To find and replace on your code\n",
    "-  `Shift + Up/Down` : To select multiple cells\n",
    "-  `Space` : Scroll notebook downwards\n",
    "-  `Shift + Space` : Scroll notebook upwards\n",
    "\n",
    "### Edit mode shortcuts\n",
    "-  `Shift + Enter` : To execute the code in the current cell and go to the next cell\n",
    "-  `Alt + Enter` : To execute the code in the current cell and insert new cell below\n",
    "-  `Shift + Tab` : To get a brief documentation of the object that you have just typed in the coding cell\n",
    "-  `Ctrl + Shift + -` : To split the cell at cursor\n",
    "-  `Shift + M` : To merge selected cells\n",
    "\n",
    "Apart from this, you can also use `H` to open the list of keyboard shortcuts and even add new shortcuts or customize the existing shorcuts according to your personal requirements."
   ]
  },
  {
   "cell_type": "markdown",
   "metadata": {},
   "source": [
    "## Closing a notebook"
   ]
  },
  {
   "cell_type": "markdown",
   "metadata": {},
   "source": [
    "Closing the tab, doesn’t automatically shutdown the notebook. You need to explicitly shutdown the notebook. To do this navigate to the dashboard and switch to the `Running` tab. There you will see all your running notebooks with an option to shut them down.\n",
    "\n",
    "![running_notebooks_tab](https://learn-ml-and-ai-blog-resources.s3.us-east-2.amazonaws.com/JupyterIntroduction/running_notebooks_tab.jpg)"
   ]
  },
  {
   "cell_type": "markdown",
   "metadata": {},
   "source": [
    "## Why we use Jupyter notebook"
   ]
  },
  {
   "cell_type": "markdown",
   "metadata": {},
   "source": [
    "Since now we are familiar with how Jupyter notebook works, we are in a better position to answer why we use them in the first place. There are many reasons why they are the preferred way of doing a quick prototype or to share your experiment's results. Some of the reasons are listed below:\n",
    "\n",
    "-  It is an open source web application.\n",
    "-  It provides an environment where you can document your code, run it, look at outcome, visualise data and see the results without leaving the environment - which make it a suitable choice to perform end to end data science workflows.\n",
    "-  These can be real helpful in the initial prototyping phase of a big problem statement as the code in a Jupyter notebook is written in independent cells/blocks which can be executed individually. This allows you to test/execute a specific block of code without re running the entire project. Want to change some parameter values and try a new experiment, just modify that particular code cell and execute it. No need to run the entire thing again. Also did i mention you can run the cells in any order. Run the last cell first just because you can :)\n",
    "-  From bash commands to magics to plugins, Jupyter enhances the python coding experience greatly.\n",
    "-  They even allow you to run other languages besides python like R, SQL, JavaScript etc.\n",
    "-  Very easy to save and share your notebooks.\n",
    "\n",
    "The list can go on and on..."
   ]
  },
  {
   "cell_type": "markdown",
   "metadata": {},
   "source": [
    "<br> Still wondering about the powerful capabilities of Jupyter notebook? ***I have created this entire post purely using Jupyter notebook.***\n",
    "\n",
    "***You can check out the source notebook for this post [here](https://github.com/guptanik/python-fundamentals/blob/master/JupyterNotebook-Introduction.ipynb).***"
   ]
  },
  {
   "cell_type": "markdown",
   "metadata": {},
   "source": [
    "## Summary"
   ]
  },
  {
   "cell_type": "markdown",
   "metadata": {},
   "source": [
    "As we’ve seen, Jupyter Notebook files are very powerful and useful tool. Its interface allows you to navigate using your mouse with dropdown menus and buttons, or by keyboard shortcuts. They allow you to run small segments of code at a time, save them in their current state, or restart and have them return to their original state. In addition to running code, we can also use markdown to neatly organize our notebooks so they are presentable to others.\n",
    "\n",
    "If you’re interested in learning more about Jupyter Notebooks, read their documentation [here](https://jupyter.readthedocs.io/en/latest/.)"
   ]
  },
  {
   "cell_type": "markdown",
   "metadata": {},
   "source": [
    "## Additional resources"
   ]
  },
  {
   "cell_type": "markdown",
   "metadata": {},
   "source": [
    "-  [Source notebook for this post](https://github.com/guptanik/python-fundamentals/blob/master/JupyterNotebook-Introduction.ipynb)\n",
    "-  [Official website](https://jupyter.org/)\n",
    "-  [List of shortcuts](https://gist.github.com/kidpixo/f4318f8c8143adee5b40)\n",
    "-  [Magic commands](https://ipython.readthedocs.io/en/stable/interactive/magics.html)\n"
   ]
  }
 ],
 "metadata": {
  "kernelspec": {
   "display_name": "Python 3",
   "language": "python",
   "name": "python3"
  },
  "language_info": {
   "codemirror_mode": {
    "name": "ipython",
    "version": 3
   },
   "file_extension": ".py",
   "mimetype": "text/x-python",
   "name": "python",
   "nbconvert_exporter": "python",
   "pygments_lexer": "ipython3",
   "version": "3.7.6"
  }
 },
 "nbformat": 4,
 "nbformat_minor": 4
}
